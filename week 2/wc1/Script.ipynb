{
 "cells": [
  {
   "cell_type": "code",
   "execution_count": null,
   "metadata": {},
   "outputs": [],
   "source": [
    "import pandas as pd\n",
    "pd.__version__"
   ]
  },
  {
   "cell_type": "code",
   "execution_count": null,
   "metadata": {},
   "outputs": [],
   "source": [
    "prime_numbers = [2, 3, 5, 7, 11, 13, 17, 19, 23, 29]\n",
    "\n",
    "perfect_squares = ( 1, 4, 9, 16, 25, 36, 49, 64, 81, 100)\n",
    "\n",
    "print(\"# Primes = \", len(prime_numbers))\n",
    "print(\"# Squares = \", len(perfect_squares))\n",
    "\n",
    "for p in prime_numbers:\n",
    "    print(\"Prime: \", p)\n",
    "for n in perfect_squares:\n",
    "    print(\"Square: \", n)"
   ]
  },
  {
   "cell_type": "code",
   "execution_count": null,
   "metadata": {},
   "outputs": [],
   "source": []
  }
 ],
 "metadata": {
  "kernelspec": {
   "display_name": "pythonanalyzer-r8O-sSsi-py3.12",
   "language": "python",
   "name": "python3"
  },
  "language_info": {
   "codemirror_mode": {
    "name": "ipython",
    "version": 3
   },
   "file_extension": ".py",
   "mimetype": "text/x-python",
   "name": "python",
   "nbconvert_exporter": "python",
   "pygments_lexer": "ipython3",
   "version": "3.12.2"
  }
 },
 "nbformat": 4,
 "nbformat_minor": 2
}
