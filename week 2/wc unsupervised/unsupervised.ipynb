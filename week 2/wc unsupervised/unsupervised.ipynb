{
 "cells": [
  {
   "cell_type": "code",
   "execution_count": null,
   "metadata": {},
   "outputs": [],
   "source": [
    "import pandas as pd\n",
    "from sklearn.cluster import KMeans\n",
    "import math\n",
    "import matplotlib.pyplot as plt\n",
    "import warnings\n",
    "from sklearn.preprocessing import StandardScaler\n",
    "warnings.simplefilter('ignore')\n",
    "import sqlite3\n",
    "\n",
    "# Connect to SQLite database\n",
    "conn = sqlite3.connect('..\\\\..\\\\sqllite\\\\go_staff.sqlite')\n",
    "conn2 = sqlite3.connect('..\\\\..\\\\sqllite\\\\go_sales.sqlite')"
   ]
  },
  {
   "cell_type": "code",
   "execution_count": null,
   "metadata": {},
   "outputs": [],
   "source": [
    "df = pd.read_sql_query(\"SELECT * FROM sales_branch\", conn)\n",
    "df02 = pd.read_sql_query(\"SELECT * FROM country\", conn2)\n",
    "df = pd.merge(df, df02, on='COUNTRY_CODE')\n",
    "df = df.loc[:, ['CITY', 'REGION', 'COUNTRY']]\n",
    "df.dtypes"
   ]
  },
  {
   "cell_type": "code",
   "execution_count": null,
   "metadata": {},
   "outputs": [],
   "source": [
    "dummies_dataframe = pd.get_dummies(df.loc[:, ['CITY', 'REGION', 'COUNTRY']])\n",
    "dummies_dataframe"
   ]
  },
  {
   "cell_type": "code",
   "execution_count": null,
   "metadata": {},
   "outputs": [],
   "source": [
    "# Scale the data\n",
    "scaler = StandardScaler()\n",
    "data_scaled = scaler.fit_transform(dummies_dataframe)"
   ]
  },
  {
   "cell_type": "code",
   "execution_count": null,
   "metadata": {},
   "outputs": [],
   "source": [
    "# Choose the number of clusters (k)\n",
    "k = 3\n",
    "\n",
    "# Apply K-Means clustering\n",
    "kmeans = KMeans(n_clusters=k, random_state=42)\n",
    "dummies_dataframe[\"cluster\"] = kmeans.fit_predict(data_scaled)\n",
    "\n",
    "# Print the centroids of the clusters\n",
    "print(\"Cluster Centers:\")\n",
    "print(scaler.inverse_transform(kmeans.cluster_centers_))\n",
    "\n",
    "# Visualize the cluster assignments\n",
    "dummies_dataframe"
   ]
  },
  {
   "cell_type": "code",
   "execution_count": null,
   "metadata": {},
   "outputs": [],
   "source": [
    "# Drop the 'cluster' column before calculating cluster centers\n",
    "dummies_dataframe_without_cluster = dummies_dataframe.drop(columns=['cluster'])\n",
    "\n",
    "# Get cluster centers\n",
    "kmeans_centra = pd.DataFrame(kmeans.cluster_centers_, columns=dummies_dataframe_without_cluster.columns)"
   ]
  },
  {
   "cell_type": "code",
   "execution_count": null,
   "metadata": {},
   "outputs": [],
   "source": [
    "# Function to calculate Euclidean distance between data points and cluster centers\n",
    "def calculate_distances(data, centroids):\n",
    "    distances = {}\n",
    "    for src_index, _ in data.iterrows():\n",
    "        euclidean_distances = {}\n",
    "        for centrum_index, _ in centroids.iterrows():\n",
    "            euclidean_sum = 0\n",
    "            for column_name in centroids.columns:\n",
    "                current_difference = data.at[src_index, column_name] - centroids.at[centrum_index, column_name]\n",
    "                euclidean_sum += current_difference ** 2\n",
    "            euclidean_distance = math.sqrt(euclidean_sum)\n",
    "            euclidean_distances[centrum_index] = euclidean_distance\n",
    "        distances[src_index] = euclidean_distances\n",
    "    return distances\n",
    "\n",
    "# Assign labels to columns\n",
    "kmeans_centra.columns = dummies_dataframe_without_cluster.columns\n",
    "\n",
    "# Calculate distances and assign each data point to the nearest cluster center\n",
    "distances = calculate_distances(dummies_dataframe_without_cluster, kmeans_centra)\n",
    "\n",
    "# Add the cluster center to the dataframe\n",
    "nearest_cluster_centers = {}\n",
    "for src_index, distances_dict in distances.items():\n",
    "    nearest_cluster_centers[src_index] = min(distances_dict, key=distances_dict.get)\n",
    "dummies_dataframe_without_cluster['Centrum'] = nearest_cluster_centers.values()\n",
    "\n",
    "# Plot the clusters\n",
    "plt.scatter(dummies_dataframe_without_cluster.iloc[:, 0], dummies_dataframe_without_cluster.iloc[:, 1], c=dummies_dataframe_without_cluster['Centrum'], cmap='viridis')\n",
    "plt.xlabel('Feature 1')\n",
    "plt.ylabel('Feature 2')\n",
    "plt.title('Visualization of Clusters')\n",
    "plt.colorbar(label='Cluster')\n",
    "plt.show()\n",
    "\n",
    "# Group by cluster centers and count data points in each cluster\n",
    "print(dummies_dataframe_without_cluster.groupby('Centrum').size())"
   ]
  }
 ],
 "metadata": {
  "kernelspec": {
   "display_name": "pythonanalyzer-r8O-sSsi-py3.12",
   "language": "python",
   "name": "python3"
  },
  "language_info": {
   "codemirror_mode": {
    "name": "ipython",
    "version": 3
   },
   "file_extension": ".py",
   "mimetype": "text/x-python",
   "name": "python",
   "nbconvert_exporter": "python",
   "pygments_lexer": "ipython3",
   "version": "3.12.2"
  }
 },
 "nbformat": 4,
 "nbformat_minor": 2
}
