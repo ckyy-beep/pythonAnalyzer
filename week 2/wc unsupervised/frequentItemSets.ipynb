{
 "cells": [
  {
   "cell_type": "markdown",
   "metadata": {},
   "source": []
  },
  {
   "cell_type": "code",
   "execution_count": null,
   "metadata": {},
   "outputs": [],
   "source": [
    "import pandas as pd\n",
    "from mlxtend.frequent_patterns import apriori, association_rules\n",
    "# show rows and columns\n",
    "pd.set_option('display.max_rows', 8)\n",
    "pd.set_option('display.max_columns', None)"
   ]
  },
  {
   "cell_type": "code",
   "execution_count": null,
   "metadata": {},
   "outputs": [],
   "source": [
    "df = pd.read_excel('../../sqllite/Online Retail.xlsx')"
   ]
  },
  {
   "cell_type": "code",
   "execution_count": null,
   "metadata": {},
   "outputs": [],
   "source": [
    "# Drop rows with missing values\n",
    "df.dropna(axis=0, subset=['InvoiceNo'], inplace=True)\n",
    "\n",
    "# Remove credit transactions (Invoice numbers starting with 'C')\n",
    "df['InvoiceNo'] = df['InvoiceNo'].astype('str')\n",
    "df = df[~df['InvoiceNo'].str.startswith('C')]\n",
    "\n",
    "# Remove leading/trailing whitespaces from the Description column\n",
    "df['Description'] = df['Description'].str.strip()\n"
   ]
  },
  {
   "cell_type": "code",
   "execution_count": null,
   "metadata": {},
   "outputs": [],
   "source": [
    "df"
   ]
  },
  {
   "cell_type": "code",
   "execution_count": null,
   "metadata": {},
   "outputs": [],
   "source": [
    "# Pivot the dataset to convert it into a transaction format\n",
    "basket = (df.groupby(['InvoiceNo', 'Description'])['Quantity']\n",
    "          .sum().unstack().reset_index().fillna(0)\n",
    "          .set_index('InvoiceNo'))\n",
    "\n",
    "basket"
   ]
  },
  {
   "cell_type": "code",
   "execution_count": null,
   "metadata": {},
   "outputs": [],
   "source": [
    "# Convert quantities to binary values (1 if quantity > 0, 0 otherwise)\n",
    "basket_sets = basket.applymap(lambda x: 1 if x > 0 else 0)  \n",
    "\n",
    "# Find frequent itemsets with minimum support threshold\n",
    "frequent_itemsets = apriori(basket_sets, min_support=0.02, use_colnames=True)\n"
   ]
  },
  {
   "cell_type": "code",
   "execution_count": null,
   "metadata": {},
   "outputs": [],
   "source": [
    "basket_sets"
   ]
  },
  {
   "cell_type": "code",
   "execution_count": null,
   "metadata": {},
   "outputs": [],
   "source": [
    "# Generate association rules with minimum confidence threshold\n",
    "rules = association_rules(frequent_itemsets, metric='confidence', min_threshold=0.5)\n"
   ]
  },
  {
   "cell_type": "code",
   "execution_count": null,
   "metadata": {},
   "outputs": [],
   "source": [
    "\n",
    "# Sort the rules by lift in descending order\n",
    "rules.sort_values(by='lift', ascending=False, inplace=True)"
   ]
  },
  {
   "cell_type": "code",
   "execution_count": null,
   "metadata": {},
   "outputs": [],
   "source": [
    "# Display the top 10 association rules\n",
    "print(\"Top 10 Association Rules:\")\n",
    "#print(rules.head(10))\n",
    "rules"
   ]
  },
  {
   "cell_type": "code",
   "execution_count": null,
   "metadata": {},
   "outputs": [],
   "source": [
    "# # Find frequent itemsets with minimum support threshold of 0.01\n",
    "# frequent_itemsets = apriori(basket_sets, min_support=0.02, use_colnames=True)\n",
    "\n",
    "# # Store frequent itemsets in a DataFrame\n",
    "# df_frequent_itemsets = pd.DataFrame(frequent_itemsets)\n",
    "\n",
    "# # Print frequent itemsets DataFrame\n",
    "# print(\"Frequent Itemsets:\")\n",
    "# print(df_frequent_itemsets)\n",
    "\n",
    "# # Generate association rules with minimum confidence threshold of 0.5\n",
    "# rules = association_rules(frequent_itemsets, metric='confidence', min_threshold=0.5)\n",
    "\n",
    "# # Sort the rules by lift in descending order\n",
    "# rules.sort_values(by='lift', ascending=False, inplace=True)\n",
    "\n",
    "# # Store association rules in a DataFrame\n",
    "# df_association_rules = pd.DataFrame(rules)\n",
    "\n",
    "# # Display the top 10 association rules DataFrame\n",
    "# print(\"\\nTop 10 Association Rules:\")\n",
    "# #print(df_association_rules.head(10))\n",
    "# df_association_rules\n"
   ]
  }
 ],
 "metadata": {
  "kernelspec": {
   "display_name": "pythonanalyzer-r8O-sSsi-py3.12",
   "language": "python",
   "name": "python3"
  },
  "language_info": {
   "codemirror_mode": {
    "name": "ipython",
    "version": 3
   },
   "file_extension": ".py",
   "mimetype": "text/x-python",
   "name": "python",
   "nbconvert_exporter": "python",
   "pygments_lexer": "ipython3",
   "version": "3.12.2"
  }
 },
 "nbformat": 4,
 "nbformat_minor": 2
}
