{
 "cells": [
  {
   "cell_type": "markdown",
   "metadata": {},
   "source": [
    "<h2>De connectie leggen tussen SSMS en Python</h2>"
   ]
  },
  {
   "cell_type": "code",
   "execution_count": null,
   "metadata": {},
   "outputs": [],
   "source": []
  },
  {
   "cell_type": "code",
   "execution_count": null,
   "metadata": {},
   "outputs": [],
   "source": [
    "import pandas as pd\n",
    "import pyodbc\n",
    "import sqlite3\n",
    "\n",
    "# Connect to SQLite database\n",
    "conn = sqlite3.connect('..\\\\..\\\\sqllite\\\\go_sales.sqlite')\n",
    "\n",
    "# Connect to SQL Server\n",
    "DB = {'servername': 'LAPTOP-HSI9FLRD\\\\SQLEXPRESS',\n",
    "      'database': 'DataWarehouseGreatOutdoors'}\n",
    "\n",
    "export_conn = pyodbc.connect('DRIVER={SQL Server};SERVER=' + DB['servername'] +\n",
    "                             ';DATABASE=' + DB['database'] + ';Trusted_Connection=yes')\n",
    "\n",
    "export_cursor = export_conn.cursor()\n",
    "\n",
    "# Read data from SQLite database\n",
    "products = pd.read_sql_query(\"SELECT * FROM product\", conn)\n",
    "product_types = pd.read_sql_query(\"SELECT * FROM product_type\", conn)\n",
    "product_line = pd.read_sql_query(\"SELECT * FROM product_line\", conn)\n",
    "\n",
    "# Merge data into one table\n",
    "combined_product_table = pd.merge(products, product_types, on='PRODUCT_TYPE_CODE')\n",
    "combined_product_table = pd.merge(combined_product_table, product_line, on='PRODUCT_LINE_CODE')\n",
    "combined_product_table\n",
    "\n",
    "# Iterate through rows and insert into SQL Server\n",
    "for index, row in combined_product_table.iterrows():\n",
    "    try:\n",
    "        query = \"INSERT INTO Product (PRODUCT_NUMBER, PRODUCT_NAME, PRODUCT_DESCRIPTION, PRODUCT_PRODUCT_LINE_NAME, PRODUCT_PRODUCT_TYPE_NAME, PRODUCT_PRODUCT_COST_AMOUNT, PRODUCT_MARGIN_AMOUNT) VALUES (?, ?, ?, ?, ?, ?, ?)\"\n",
    "        export_cursor.execute(query, row['PRODUCT_NUMBER'], row['PRODUCT_NAME'], row['DESCRIPTION'], row['PRODUCT_LINE_EN'], row['PRODUCT_TYPE_EN'], row['PRODUCTION_COST'], row['MARGIN'])\n",
    "    except pyodbc.Error as e:\n",
    "        print(f\"Error inserting row {index}: {e}\")\n",
    "\n",
    "export_conn.commit() \n",
    "export_conn.close()"
   ]
  },
  {
   "cell_type": "markdown",
   "metadata": {},
   "source": [
    "Table joins"
   ]
  },
  {
   "cell_type": "code",
   "execution_count": null,
   "metadata": {},
   "outputs": [],
   "source": [
    "# # Read data from SQLite database\n",
    "# products = pd.read_sql_query(\"SELECT * FROM sales_staff\", conn)\n",
    "# product_types = pd.read_sql_query(\"SELECT * FROM sales_branch\", conn)\n",
    "# product_line = pd.read_sql_query(\"SELECT * FROM country\", conn)\n",
    "\n",
    "# # Merge data into one table\n",
    "# combined_product_table = pd.merge(products, product_types, on='PRODUCT_TYPE_CODE')\n",
    "# combined_product_table = pd.merge(combined_product_table, product_line, on='PRODUCT_LINE_CODE')\n",
    "# combined_product_table\n",
    "\n",
    "# # Iterate through rows and insert into SQL Server\n",
    "# for index, row in combined_product_table.iterrows():\n",
    "#     try:\n",
    "#         query = \"INSERT INTO Product (PRODUCT_NUMBER, PRODUCT_NAME, PRODUCT_DESCRIPTION, PRODUCT_PRODUCT_LINE_NAME, PRODUCT_PRODUCT_TYPE_NAME, PRODUCT_PRODUCT_COST_AMOUNT, PRODUCT_MARGIN_AMOUNT) VALUES (?, ?, ?, ?, ?, ?, ?)\"\n",
    "#         export_cursor.execute(query, row['PRODUCT_NUMBER'], row['PRODUCT_NAME'], row['DESCRIPTION'], row['PRODUCT_LINE_EN'], row['PRODUCT_TYPE_EN'], row['PRODUCTION_COST'], row['MARGIN'])\n",
    "#     except pyodbc.Error as e:\n",
    "#         print(f\"Error inserting row {index}: {e}\") "
   ]
  },
  {
   "cell_type": "code",
   "execution_count": null,
   "metadata": {},
   "outputs": [],
   "source": []
  }
 ],
 "metadata": {
  "kernelspec": {
   "display_name": "pythonanalyzer-r8O-sSsi-py3.12",
   "language": "python",
   "name": "python3"
  },
  "language_info": {
   "codemirror_mode": {
    "name": "ipython",
    "version": 3
   },
   "file_extension": ".py",
   "mimetype": "text/x-python",
   "name": "python",
   "nbconvert_exporter": "python",
   "pygments_lexer": "ipython3",
   "version": "3.12.2"
  }
 },
 "nbformat": 4,
 "nbformat_minor": 2
}
