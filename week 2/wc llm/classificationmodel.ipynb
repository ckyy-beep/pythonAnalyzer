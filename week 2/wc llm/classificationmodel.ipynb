{
 "cells": [
  {
   "cell_type": "markdown",
   "metadata": {},
   "source": [
    "<h1> Decision Trees is a popular classification model </h1>"
   ]
  },
  {
   "cell_type": "markdown",
   "metadata": {},
   "source": []
  },
  {
   "cell_type": "code",
   "execution_count": null,
   "metadata": {},
   "outputs": [],
   "source": [
    "import pandas as pd\n",
    "from sklearn.model_selection import train_test_split\n",
    "from sklearn.tree import DecisionTreeClassifier\n",
    "from sklearn import tree\n",
    "from sklearn import metrics\n",
    "import matplotlib.pyplot as plt\n",
    "import pyodbc\n",
    "import sqlite3"
   ]
  },
  {
   "cell_type": "code",
   "execution_count": null,
   "metadata": {},
   "outputs": [],
   "source": [
    "pd.set_option('display.max_columns', None)\n",
    "\n",
    "plt.rcParams['figure.dpi'] = 3800\n",
    "plt.rcParams['savefig.dpi'] = 3800\n",
    "\n",
    "df = pd.read_csv('../../sqllite/heart_disease_uci.csv')\n",
    "df"
   ]
  },
  {
   "cell_type": "code",
   "execution_count": null,
   "metadata": {},
   "outputs": [],
   "source": [
    "df = df.loc[ :, ['age', 'sex', 'cp', 'trestbps', 'chol', 'fbs', 'restecg', 'thalch', 'exang', 'oldpeak', 'slope', 'ca', 'thal', 'num'] ]\n",
    "df  "
   ]
  },
  {
   "cell_type": "code",
   "execution_count": null,
   "metadata": {},
   "outputs": [],
   "source": [
    "dummies_dataframe = pd.get_dummies(df.loc[ :, ['sex', 'cp', 'restecg', 'slope', 'ca', 'thal'] ])\n",
    "dummies_dataframe"
   ]
  },
  {
   "cell_type": "code",
   "execution_count": null,
   "metadata": {},
   "outputs": [],
   "source": [
    "df = pd.concat( [df, dummies_dataframe], axis=1 )\n",
    "df = df.drop(['sex', 'cp', 'restecg', 'slope', 'ca', 'thal'], axis=1)\n",
    "df"
   ]
  },
  {
   "cell_type": "code",
   "execution_count": null,
   "metadata": {},
   "outputs": [],
   "source": [
    "# Define a function to map values to binary labels\n",
    "def map_to_binary(label):\n",
    "    if label > 0:\n",
    "        return 1  # Heart disease present\n",
    "    else:\n",
    "        return 0  # No heart disease\n",
    "\n",
    "# Apply the function to create a new binary target variable column\n",
    "df['target'] = df['num'].apply(map_to_binary)\n",
    "\n",
    "# Drop the original 'num' column\n",
    "df = df.drop('num', axis=1)\n",
    "\n",
    "df"
   ]
  },
  {
   "cell_type": "code",
   "execution_count": null,
   "metadata": {},
   "outputs": [],
   "source": [
    "x = df.drop('target', axis=1)\n",
    "y = df.loc[ :, ['target'] ]\n",
    "y"
   ]
  },
  {
   "cell_type": "code",
   "execution_count": null,
   "metadata": {},
   "outputs": [],
   "source": [
    "x_train, x_test, y_train, y_test = train_test_split(\n",
    "    x,\n",
    "    y,\n",
    "    test_size = 0.15,\n",
    "    random_state= 48\n",
    ")"
   ]
  },
  {
   "cell_type": "code",
   "execution_count": null,
   "metadata": {},
   "outputs": [],
   "source": [
    "list(x.columns)"
   ]
  },
  {
   "cell_type": "markdown",
   "metadata": {},
   "source": [
    "<h1> Decision Tree bouwen en evalueren </h1>"
   ]
  },
  {
   "cell_type": "markdown",
   "metadata": {},
   "source": [
    "<h2> Max_depth = 3 </h2>"
   ]
  },
  {
   "cell_type": "code",
   "execution_count": null,
   "metadata": {},
   "outputs": [],
   "source": [
    "dtree = DecisionTreeClassifier( max_depth = 3 )\n",
    "dtree = dtree.fit(x_train, y_train)\n",
    "tree.plot_tree(dtree, feature_names = x.columns)\n",
    "plt.show()"
   ]
  },
  {
   "cell_type": "code",
   "execution_count": null,
   "metadata": {},
   "outputs": [],
   "source": [
    "## predict methode op decision tree\n",
    "predicted_df = pd.DataFrame(dtree.predict(x_test))\n",
    "predicted_df = predicted_df.rename(columns={0: 'Predicted_heart_disease'})\n",
    "\n",
    "model_results_frame = pd.concat([y_test.reset_index()['target'], predicted_df], axis=1)\n",
    "model_results_frame"
   ]
  },
  {
   "cell_type": "code",
   "execution_count": null,
   "metadata": {},
   "outputs": [],
   "source": [
    "confusion_matrix = metrics.confusion_matrix(model_results_frame['target'], model_results_frame['Predicted_heart_disease'])\n",
    "cm_display = metrics.ConfusionMatrixDisplay(confusion_matrix = confusion_matrix, display_labels = ['No Heart Disease', 'Heart Disease'])\n",
    "\n",
    "cm_display.plot()\n",
    "plt.show()"
   ]
  },
  {
   "cell_type": "code",
   "execution_count": null,
   "metadata": {},
   "outputs": [],
   "source": [
    "metrics.accuracy_score(model_results_frame['target'], model_results_frame['Predicted_heart_disease'])"
   ]
  },
  {
   "cell_type": "markdown",
   "metadata": {},
   "source": [
    "<h1> ~ 78% accurate </h1>"
   ]
  },
  {
   "cell_type": "markdown",
   "metadata": {},
   "source": [
    "<h2> Max_depth = 4 </h2>"
   ]
  },
  {
   "cell_type": "code",
   "execution_count": null,
   "metadata": {},
   "outputs": [],
   "source": [
    "dtree = DecisionTreeClassifier( max_depth = 4 )\n",
    "dtree = dtree.fit(x_train, y_train)\n",
    "tree.plot_tree(dtree, feature_names = x.columns)\n",
    "plt.show()"
   ]
  },
  {
   "cell_type": "code",
   "execution_count": null,
   "metadata": {},
   "outputs": [],
   "source": [
    "## predict methode op decision tree\n",
    "predicted_df = pd.DataFrame(dtree.predict(x_test))\n",
    "predicted_df = predicted_df.rename(columns={0: 'Predicted_heart_disease'})\n",
    "\n",
    "model_results_frame = pd.concat([y_test.reset_index()['target'], predicted_df], axis=1)\n",
    "model_results_frame"
   ]
  },
  {
   "cell_type": "code",
   "execution_count": null,
   "metadata": {},
   "outputs": [],
   "source": [
    "confusion_matrix = metrics.confusion_matrix(model_results_frame['target'], model_results_frame['Predicted_heart_disease'])\n",
    "cm_display = metrics.ConfusionMatrixDisplay(confusion_matrix = confusion_matrix, display_labels = ['No Heart Disease', 'Heart Disease'])\n",
    "\n",
    "cm_display.plot()\n",
    "plt.show()"
   ]
  },
  {
   "cell_type": "code",
   "execution_count": null,
   "metadata": {},
   "outputs": [],
   "source": [
    "metrics.accuracy_score(model_results_frame['target'], model_results_frame['Predicted_heart_disease'])"
   ]
  },
  {
   "cell_type": "markdown",
   "metadata": {},
   "source": [
    "<h1> ~ 80% accurate </h1>"
   ]
  },
  {
   "cell_type": "markdown",
   "metadata": {},
   "source": [
    "<h1> Max_depth = 8 </h1>"
   ]
  },
  {
   "cell_type": "code",
   "execution_count": null,
   "metadata": {},
   "outputs": [],
   "source": [
    "dtree = DecisionTreeClassifier( max_depth = 8 )\n",
    "dtree = dtree.fit(x_train, y_train)\n",
    "tree.plot_tree(dtree, feature_names = x.columns)\n",
    "plt.show()"
   ]
  },
  {
   "cell_type": "code",
   "execution_count": null,
   "metadata": {},
   "outputs": [],
   "source": [
    "predicted_df = pd.DataFrame(dtree.predict(x_test))\n",
    "predicted_df = predicted_df.rename(columns={0: 'Predicted_heart_disease'})\n",
    "model_results_frame = pd.concat([y_test.reset_index()['target'], predicted_df], axis=1)\n",
    "model_results_frame"
   ]
  },
  {
   "cell_type": "code",
   "execution_count": null,
   "metadata": {},
   "outputs": [],
   "source": [
    "confusion_matrix = metrics.confusion_matrix(model_results_frame['target'], model_results_frame['Predicted_heart_disease'])\n",
    "cm_display = metrics.ConfusionMatrixDisplay(confusion_matrix = confusion_matrix, display_labels = ['No Heart Disease', 'Heart Disease'])\n",
    "\n",
    "cm_display.plot()\n",
    "plt.show()"
   ]
  },
  {
   "cell_type": "code",
   "execution_count": null,
   "metadata": {},
   "outputs": [],
   "source": [
    "metrics.accuracy_score(model_results_frame['target'], model_results_frame['Predicted_heart_disease'])"
   ]
  },
  {
   "cell_type": "markdown",
   "metadata": {},
   "source": [
    "<h1> ~75% accuracy<h1>"
   ]
  },
  {
   "cell_type": "markdown",
   "metadata": {},
   "source": [
    "<h1> geen max_depth </h1>"
   ]
  },
  {
   "cell_type": "code",
   "execution_count": null,
   "metadata": {},
   "outputs": [],
   "source": [
    "dtree = DecisionTreeClassifier()\n",
    "dtree = dtree.fit(x_train, y_train)\n",
    "tree.plot_tree(dtree, feature_names = x.columns)\n",
    "plt.show()"
   ]
  },
  {
   "cell_type": "code",
   "execution_count": null,
   "metadata": {},
   "outputs": [],
   "source": [
    "## predict methode op decision tree\n",
    "predicted_df = pd.DataFrame(dtree.predict(x_test))\n",
    "predicted_df = predicted_df.rename(columns={0: 'Predicted_heart_disease'})\n",
    "\n",
    "model_results_frame = pd.concat([y_test.reset_index()['target'], predicted_df], axis=1)\n",
    "model_results_frame"
   ]
  },
  {
   "cell_type": "code",
   "execution_count": null,
   "metadata": {},
   "outputs": [],
   "source": [
    "confusion_matrix = metrics.confusion_matrix(model_results_frame['target'], model_results_frame['Predicted_heart_disease'])\n",
    "cm_display = metrics.ConfusionMatrixDisplay(confusion_matrix = confusion_matrix, display_labels = ['No Heart Disease', 'Heart Disease'])\n",
    "\n",
    "cm_display.plot()\n",
    "plt.show()"
   ]
  },
  {
   "cell_type": "code",
   "execution_count": null,
   "metadata": {},
   "outputs": [],
   "source": [
    "metrics.accuracy_score(model_results_frame['target'], model_results_frame['Predicted_heart_disease'])"
   ]
  },
  {
   "cell_type": "markdown",
   "metadata": {},
   "source": [
    "<h1> ~74% accuraccy</h1>"
   ]
  }
 ],
 "metadata": {
  "kernelspec": {
   "display_name": "pythonanalyzer-r8O-sSsi-py3.12",
   "language": "python",
   "name": "python3"
  },
  "language_info": {
   "codemirror_mode": {
    "name": "ipython",
    "version": 3
   },
   "file_extension": ".py",
   "mimetype": "text/x-python",
   "name": "python",
   "nbconvert_exporter": "python",
   "pygments_lexer": "ipython3",
   "version": "3.12.2"
  }
 },
 "nbformat": 4,
 "nbformat_minor": 2
}
