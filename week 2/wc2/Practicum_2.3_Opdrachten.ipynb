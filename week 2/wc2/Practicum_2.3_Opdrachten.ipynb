{
 "cells": [
  {
   "cell_type": "markdown",
   "metadata": {},
   "source": [
    "# Practicumopdrachten Week 2.3 (eerste kans)"
   ]
  },
  {
   "cell_type": "markdown",
   "metadata": {},
   "source": [
    "## Dependencies importeren"
   ]
  },
  {
   "cell_type": "markdown",
   "metadata": {},
   "source": [
    "Kopieer in het codeblok hieronder van het vorige practicum de import-code voor de dependencies die het vaakst worden gebruikt om data in te lezen. Geef er ook de gebruikelijke aliassen aan.<br>\n",
    "Zet eventuele warnings uit."
   ]
  },
  {
   "cell_type": "code",
   "execution_count": null,
   "metadata": {},
   "outputs": [],
   "source": [
    "import warnings\n",
    "import pandas as pd\n",
    "import numpy as np\n",
    "import sqlite3\n",
    "\n",
    "warnings.simplefilter('ignore')"
   ]
  },
  {
   "cell_type": "markdown",
   "metadata": {},
   "source": [
    "Zet het bestand go_sales.sqlite in hetzelfde mapje als dit notebook."
   ]
  },
  {
   "cell_type": "markdown",
   "metadata": {},
   "source": [
    "## Databasetabellen inlezen"
   ]
  },
  {
   "cell_type": "markdown",
   "metadata": {},
   "source": [
    "Kopieer in het codeblok hieronder van het vorige practicum de code om een connectie met het bestand go_sales.sqlite te maken."
   ]
  },
  {
   "cell_type": "code",
   "execution_count": null,
   "metadata": {},
   "outputs": [],
   "source": [
    "conn = sqlite3.connect('..\\\\..\\\\sqllite\\\\go_sales.sqlite')\n",
    "\n",
    "# show rows and columns\n",
    "pd.set_option('display.max_rows', None)\n",
    "pd.set_option('display.max_columns', None)\n",
    "\n",
    "# # Reset display options to default\n",
    "# pd.reset_option('display.max_rows')\n",
    "# pd.reset_option('display.max_columns')"
   ]
  },
  {
   "cell_type": "markdown",
   "metadata": {},
   "source": [
    "Lees van de ingelezen go_sales-database te volgende tabellen in met behulp van \"SELECT * FROM *tabel*\".\n",
    "- product\n",
    "- product_type\n",
    "- product_line\n",
    "- sales_staff\n",
    "- sales_branch\n",
    "- retailer_site\n",
    "- country\n",
    "- order_header\n",
    "- order_details\n",
    "- target\n",
    "- returned_item\n",
    "- return_reason"
   ]
  },
  {
   "cell_type": "code",
   "execution_count": null,
   "metadata": {},
   "outputs": [],
   "source": [
    "product_table = pd.read_sql_query(\"SELECT * FROM product\", conn)\n",
    "product_type_table = pd.read_sql_query(\"SELECT * FROM product_type\", conn)\n",
    "product_line_table = pd.read_sql_query(\"SELECT * FROM product_line\", conn)\n",
    "sales_staff_table = pd.read_sql_query(\"SELECT * FROM sales_staff\", conn)\n",
    "sales_branch_table = pd.read_sql_query(\"SELECT * FROM sales_branch\", conn)\n",
    "retailer_site_table = pd.read_sql_query(\"SELECT * FROM retailer_site\", conn)\n",
    "country_table = pd.read_sql_query(\"SELECT * FROM country\", conn)\n",
    "order_header_table = pd.read_sql_query(\"SELECT * FROM order_header\", conn)\n",
    "order_details_table = pd.read_sql_query(\"SELECT * FROM order_details\", conn)\n",
    "SALES_TARGET_Data_table = pd.read_sql_query(\"SELECT * FROM SALES_TARGETData\", conn)\n",
    "returned_item_table = pd.read_sql_query(\"SELECT * FROM returned_item\", conn)\n",
    "return_reason_table = pd.read_sql_query(\"SELECT * FROM return_reason\", conn)"
   ]
  },
  {
   "cell_type": "markdown",
   "metadata": {},
   "source": [
    "Let op! Voor alle onderstaande opdrachten mag je <u>alleen Python</u> gebruiken, <u>geen SQL!</u>"
   ]
  },
  {
   "cell_type": "markdown",
   "metadata": {},
   "source": [
    "## Selecties op één tabel zonder functies"
   ]
  },
  {
   "cell_type": "markdown",
   "metadata": {},
   "source": [
    "Geef een overzicht met daarin de producten en hun productiekosten waarvan de productiekosten lager dan 100 dollar en hoger dan 50 dollar ligt. (2 kolommen, 23 rijen)"
   ]
  },
  {
   "cell_type": "code",
   "execution_count": null,
   "metadata": {},
   "outputs": [],
   "source": [
    "product_table['PRODUCTION_COST'] = product_table['PRODUCTION_COST'].astype(float)\n",
    "product_table.dtypes\n",
    "\n",
    "filtered_product_table = product_table[(product_table['PRODUCTION_COST'] > 50) & (product_table['PRODUCTION_COST'] < 100)]\n",
    "filtered_product_table = filtered_product_table[['PRODUCT_NAME', 'PRODUCTION_COST']]\n",
    "filtered_product_table"
   ]
  },
  {
   "cell_type": "markdown",
   "metadata": {},
   "source": [
    "Geef een overzicht met daarin de producten en hun marge waarvan de marge lager dan 20 % of hoger dan 60 % ligt. (2 kolommen, 7 rijen) "
   ]
  },
  {
   "cell_type": "code",
   "execution_count": null,
   "metadata": {},
   "outputs": [],
   "source": [
    "product_table['MARGIN'] = product_table['MARGIN'].astype(float)\n",
    "product_table.dtypes\n",
    "\n",
    "filtered_product_table = product_table[(product_table['MARGIN'] < .2) | (product_table['MARGIN'] > .6)]\n",
    "filtered_product_table = filtered_product_table[['PRODUCT_NAME', 'MARGIN']]\n",
    "filtered_product_table"
   ]
  },
  {
   "cell_type": "markdown",
   "metadata": {},
   "source": [
    "Geef een overzicht met daarin de landen waar met francs wordt betaald. Sorteer de uitkomst op land.  (1 kolom, 3 rijen)"
   ]
  },
  {
   "cell_type": "code",
   "execution_count": null,
   "metadata": {},
   "outputs": [],
   "source": [
    "# manier 1\n",
    "countries_currency_francs = country_table[(country_table['CURRENCY_NAME'] == 'francs')]\n",
    "countries_currency_francs = countries_currency_francs[['COUNTRY', 'CURRENCY_NAME']]\n",
    "countries_currency_francs\n",
    "\n",
    "# # manier 2\n",
    "# countries_currency_francs = country_table['CURRENCY_NAME'] == 'francs' # truth table / boolean table\n",
    "# countries_currency_francs = country_table.loc[(countries_currency_francs), ['COUNTRY', 'CURRENCY_NAME']]\n",
    "# countries_currency_francs"
   ]
  },
  {
   "cell_type": "markdown",
   "metadata": {},
   "source": [
    "Geef een overzicht met daarin de verschillende introductiedatums waarop producten met meer dan 50% marge worden geïntroduceerd (1 kolom, 7 rijen) "
   ]
  },
  {
   "cell_type": "code",
   "execution_count": null,
   "metadata": {},
   "outputs": [],
   "source": [
    "# product_met_meer_dan_50_procent_marge = product_table['MARGIN'] > .5\n",
    "# product_met_meer_dan_50_procent_marge_table = product_table.loc[(product_met_meer_dan_50_procent_marge), ['INTRODUCTION_DATE', 'PRODUCT_NAME', 'MARGIN']]\n",
    "# product_met_meer_dan_50_procent_marge_table\n",
    "\n",
    "product_met_meer_dan_50_procent_marge_table = product_table['MARGIN'] > .5\n",
    "product_met_meer_dan_50_procent_marge_table = product_table.loc[(product_met_meer_dan_50_procent_marge_table), ['INTRODUCTION_DATE', 'PRODUCT_NAME', 'MARGIN']].drop_duplicates('INTRODUCTION_DATE')\n",
    "product_met_meer_dan_50_procent_marge_table"
   ]
  },
  {
   "cell_type": "markdown",
   "metadata": {},
   "source": [
    "Geef een overzicht met daarin het eerste adres en de stad van verkoopafdelingen waarvan zowel het tweede adres als de regio bekend is (2 kolommen, 28 rijen)"
   ]
  },
  {
   "cell_type": "code",
   "execution_count": null,
   "metadata": {},
   "outputs": [],
   "source": [
    "filtered_sales_branch_table = sales_branch_table['ADDRESS1'].notna() & sales_branch_table['ADDRESS2'].notna() & sales_branch_table['CITY'].notna() & sales_branch_table['REGION'].notna()\n",
    "filtered_sales_branch_table = sales_branch_table.loc[(filtered_sales_branch_table), ['ADDRESS1', 'CITY']]\n",
    "filtered_sales_branch_table"
   ]
  },
  {
   "cell_type": "markdown",
   "metadata": {},
   "source": [
    "Geef een overzicht met daarin de landen waar met dollars (dollars of new dollar) wordt betaald. Sorteer de uitkomst op land. (1 kolom, 4 rijen) "
   ]
  },
  {
   "cell_type": "code",
   "execution_count": null,
   "metadata": {},
   "outputs": [],
   "source": [
    "countries_with_dollar_newdollar = (country_table['CURRENCY_NAME'] == 'dollars') | (country_table['CURRENCY_NAME'] == 'new dollar')\n",
    "countries_with_dollar_newdollar = country_table.loc[(countries_with_dollar_newdollar), ['COUNTRY', 'CURRENCY_NAME']]\n",
    "countries_with_dollar_newdollar"
   ]
  },
  {
   "cell_type": "markdown",
   "metadata": {},
   "source": [
    "Geef een overzicht met daarin beide adressen en de stad van vestigingen van klanten waarvan de postcode begint met een ‘D’ (van duitsland). Filter op vestigingen die een tweede adres hebben. (3 kolommen, 2 rijen) "
   ]
  },
  {
   "cell_type": "code",
   "execution_count": null,
   "metadata": {},
   "outputs": [],
   "source": [
    "filtered_retailer_site_table = (retailer_site_table['POSTAL_ZONE'].str[0] == 'D') & (retailer_site_table['ADDRESS2'].notna())\n",
    "filtered_retailer_site_table = retailer_site_table.loc[(filtered_retailer_site_table), ['ADDRESS1', 'ADDRESS2', 'CITY']]\n",
    "filtered_retailer_site_table"
   ]
  },
  {
   "cell_type": "markdown",
   "metadata": {},
   "source": [
    "## Selecties op één tabel met functies"
   ]
  },
  {
   "cell_type": "markdown",
   "metadata": {},
   "source": [
    "Geef het totaal aantal producten dat is teruggebracht (1 waarde) "
   ]
  },
  {
   "cell_type": "code",
   "execution_count": null,
   "metadata": {},
   "outputs": [],
   "source": [
    "# returned_item_table[].count()\n",
    "\n",
    "returned_item_table['RETURN_CODE'].count()"
   ]
  },
  {
   "cell_type": "markdown",
   "metadata": {},
   "source": [
    "Geef het aantal regio’s waarin verkoopafdelingen gevestigd zijn. (1 waarde)"
   ]
  },
  {
   "cell_type": "code",
   "execution_count": null,
   "metadata": {},
   "outputs": [],
   "source": [
    "sales_branch_table['REGION'].count()\n",
    "\n",
    "# This will give you the count of unique values in the 'REGION' column of the \n",
    "# sales_branch_table['REGION'].nunique()"
   ]
  },
  {
   "cell_type": "markdown",
   "metadata": {},
   "source": [
    "Maak 3 variabelen:\n",
    "- Een met de laagste\n",
    "- Een met de hoogste\n",
    "- Een met de gemiddelde (afgerond op 2 decimalen)\n",
    "\n",
    "marge van producten (3 kolommen, 1 rij) "
   ]
  },
  {
   "cell_type": "code",
   "execution_count": null,
   "metadata": {},
   "outputs": [],
   "source": [
    "laagste_marge = product_table['MARGIN'].min()\n",
    "hoogste_marge = product_table['MARGIN'].max()\n",
    "gemiddelde_marge = product_table['MARGIN'].mean()\n",
    "\n",
    "nieuwDataFrame = pd.DataFrame({'Laagste marge': [laagste_marge], 'Hoogste marge': [hoogste_marge], 'Gemiddelde marge': [gemiddelde_marge]})\n",
    "nieuwDataFrame"
   ]
  },
  {
   "cell_type": "markdown",
   "metadata": {},
   "source": [
    "Geef het aantal vestigingen van klanten waarvan het 2e adres niet bekend is (1 waarde)"
   ]
  },
  {
   "cell_type": "code",
   "execution_count": null,
   "metadata": {},
   "outputs": [],
   "source": [
    "onbekend_tweede_adres = retailer_site_table['ADDRESS2'].isna()\n",
    "onbekend_tweede_adres = retailer_site_table.loc[(onbekend_tweede_adres), :]\n",
    "onbekend_tweede_adres['RETAILER_CODE'].count()"
   ]
  },
  {
   "cell_type": "markdown",
   "metadata": {},
   "source": [
    "Geef de gemiddelde kostprijs van de verkochte producten waarop korting (unit_sale_price < unit_price) is verleend (1 waarde) "
   ]
  },
  {
   "cell_type": "code",
   "execution_count": null,
   "metadata": {},
   "outputs": [],
   "source": [
    "order_details_table['UNIT_PRICE'] = order_details_table['UNIT_PRICE'].astype(float)\n",
    "order_details_table['UNIT_SALE_PRICE'] = order_details_table['UNIT_SALE_PRICE'].astype(float)\n",
    "order_details_table['UNIT_COST'] = order_details_table['UNIT_COST'].astype(float)\n",
    "\n",
    "filtered_price_table = (order_details_table['UNIT_SALE_PRICE'] < order_details_table['UNIT_PRICE'])\n",
    "filtered_price_table = order_details_table.loc[(filtered_price_table), ['UNIT_COST', 'UNIT_PRICE', 'UNIT_SALE_PRICE']]\n",
    "\n",
    "filtered_price_table['UNIT_COST'].mean()"
   ]
  },
  {
   "cell_type": "markdown",
   "metadata": {},
   "source": [
    "Geef een overzicht met daarin het aantal medewerkers per medewerkersfunctie (2 kolommen, 7 rijen) "
   ]
  },
  {
   "cell_type": "code",
   "execution_count": null,
   "metadata": {},
   "outputs": [],
   "source": [
    "functies_tabel_staff = sales_staff_table.groupby('POSITION_EN', as_index=False)['SALES_STAFF_CODE'].count()\n",
    "functies_tabel_staff"
   ]
  },
  {
   "cell_type": "markdown",
   "metadata": {},
   "source": [
    "Geef een overzicht met daarin per telefoonnummer het aantal medewerkers dat op dat telefoonnummer bereikbaar is. Toon alleen de telefoonnummer waarop meer dan 4 medewerkers bereikbaar zijn. (2 kolommen, 10 rijen) "
   ]
  },
  {
   "cell_type": "code",
   "execution_count": null,
   "metadata": {},
   "outputs": [],
   "source": [
    "telephone_numberss = sales_staff_table.groupby('WORK_PHONE', as_index=False)['SALES_STAFF_CODE'].count()\n",
    "telephone_numberss_count = telephone_numberss['SALES_STAFF_CODE'] > 4\n",
    "telephone_numberss = telephone_numberss.loc[(telephone_numberss_count), ['WORK_PHONE', 'SALES_STAFF_CODE']]\n",
    "telephone_numberss"
   ]
  },
  {
   "cell_type": "markdown",
   "metadata": {},
   "source": [
    "## Selecties op meerdere tabellen zonder functies"
   ]
  },
  {
   "cell_type": "markdown",
   "metadata": {},
   "source": [
    "Geef een overzicht met daarin het eerste adres en de stad van vestigingen van klanten uit ‘Netherlands’ (2 kolommen, 20 rijen) "
   ]
  },
  {
   "cell_type": "code",
   "execution_count": null,
   "metadata": {},
   "outputs": [],
   "source": [
    "klant_met_land = pd.merge(retailer_site_table, country_table, left_on='COUNTRY_CODE', how='inner', right_on='COUNTRY_CODE')\n",
    "klant_met_land = klant_met_land[klant_met_land['COUNTRY'] == 'Netherlands']\n",
    "\n",
    "klant_met_land = klant_met_land[['ADDRESS1', 'CITY']]\n",
    "klant_met_land"
   ]
  },
  {
   "cell_type": "markdown",
   "metadata": {},
   "source": [
    "Geef een overzicht met daarin de productnamen die tot het producttype ‘Eyewear’ behoren. (1 kolom, 5 rijen) "
   ]
  },
  {
   "cell_type": "code",
   "execution_count": null,
   "metadata": {},
   "outputs": [],
   "source": [
    "eyewear = pd.merge(product_table, product_type_table, left_on='PRODUCT_TYPE_CODE', how='inner', right_on='PRODUCT_TYPE_CODE')\n",
    "eyewear = eyewear[eyewear['PRODUCT_TYPE_EN'] == 'Eyewear']\n",
    "eyewear = eyewear[['PRODUCT_NAME']]\n",
    "eyewear"
   ]
  },
  {
   "cell_type": "markdown",
   "metadata": {},
   "source": [
    "Geef een overzicht met daarin alle unieke eerste adressen van klantvestigingen en de voornaam en achternaam van de verkopers die ‘Branch Manager’ zijn en aan deze vestigingen hebben verkocht (3 kolommen, 1 rij) "
   ]
  },
  {
   "cell_type": "code",
   "execution_count": null,
   "metadata": {},
   "outputs": [],
   "source": [
    "klant_branch_stuff = pd.merge(order_header_table, retailer_site_table, left_on='RETAILER_SITE_CODE', how='inner', right_on='RETAILER_SITE_CODE')\n",
    "klant_branch_stuff = pd.merge(klant_branch_stuff, sales_staff_table, left_on='SALES_STAFF_CODE', how='inner', right_on='SALES_STAFF_CODE')\n",
    "klant_branch_stuff = klant_branch_stuff[klant_branch_stuff['POSITION_EN'] == 'Branch Manager']\n",
    "klant_branch_stuff = klant_branch_stuff.drop_duplicates('ADDRESS1')\n",
    "klant_branch_stuff = klant_branch_stuff[['ADDRESS1', 'FIRST_NAME', 'LAST_NAME']]\n",
    "klant_branch_stuff"
   ]
  },
  {
   "cell_type": "markdown",
   "metadata": {},
   "source": [
    "Geef een overzicht met daarin van de verkopers hun functie en indien zij iets hebben verkocht de datum waarop de verkoop heeft plaatsgevonden. Laat alleen de verschillende namen van de posities zien van de verkopers die het woord ‘Manager’ in hun positienaam hebben staan. (2 kolommen, 9 rijen) "
   ]
  },
  {
   "cell_type": "code",
   "execution_count": null,
   "metadata": {},
   "outputs": [],
   "source": [
    "sales_verkoper = pd.merge(sales_staff_table, order_header_table, how='left')\n",
    "sales_verkoper_manager = sales_verkoper['POSITION_EN'].str.contains('Manager')\n",
    "sales_verkoper = sales_verkoper.loc[(sales_verkoper_manager), ['ORDER_DATE', 'POSITION_EN']].drop_duplicates()\n",
    "sales_verkoper"
   ]
  },
  {
   "cell_type": "markdown",
   "metadata": {},
   "source": [
    "Geef een overzicht met daarin de verschillende namen van producten en bijbehorende namen van producttypen van de producten waarvoor ooit meer dan 750 stuks tegelijk verkocht zijn. (2 kolommen, 9 rijen) "
   ]
  },
  {
   "cell_type": "code",
   "execution_count": null,
   "metadata": {},
   "outputs": [],
   "source": [
    "order_details_table['QUANTITY'] = order_details_table['QUANTITY'].astype(int)\n",
    "\n",
    "list_table = pd.merge(order_details_table, product_table, left_on='PRODUCT_NUMBER', how='inner', right_on='PRODUCT_NUMBER')\n",
    "list_table = pd.merge(list_table, product_type_table, left_on='PRODUCT_TYPE_CODE', how='inner', right_on='PRODUCT_TYPE_CODE')\n",
    "list_table_count = list_table['QUANTITY'] > 750\n",
    "list_table = list_table.loc[(list_table_count), ['PRODUCT_NAME', 'PRODUCT_TYPE_EN']].drop_duplicates()\n",
    "list_table"
   ]
  },
  {
   "cell_type": "markdown",
   "metadata": {},
   "source": [
    "Geef een overzicht met daarin de productnamen waarvan ooit meer dan 40% korting is verleend. De formule voor korting is: (unit_price - unit_sale_price) / unit_price (1 kolom, 8 rijen) "
   ]
  },
  {
   "cell_type": "code",
   "execution_count": null,
   "metadata": {},
   "outputs": [],
   "source": [
    "order_details_table['UNIT_PRICE'] = order_details_table['UNIT_PRICE'].astype(float)\n",
    "order_details_table['UNIT_SALE_PRICE'] = order_details_table['UNIT_SALE_PRICE'].astype(float)\n",
    "\n",
    "list_table_prodduct_idk = pd.merge(order_details_table, product_table, left_on='PRODUCT_NUMBER', how='inner', right_on='PRODUCT_NUMBER')\n",
    "list_table_prodduct_idk_idk = ((list_table_prodduct_idk['UNIT_PRICE'] - list_table_prodduct_idk['UNIT_SALE_PRICE']) / list_table_prodduct_idk['UNIT_PRICE']) > .4\n",
    "list_table_prodduct_idk = list_table_prodduct_idk.loc[(list_table_prodduct_idk_idk), ['PRODUCT_NAME']].drop_duplicates('PRODUCT_NAME')\n",
    "list_table_prodduct_idk"
   ]
  },
  {
   "cell_type": "markdown",
   "metadata": {},
   "source": [
    "Geef een overzicht met daarin de retourreden van producten waarvan ooit meer dan 90% van de aangeschafte hoeveelheid is teruggebracht (return_quantity/quantity). (1 kolom, 3 rijen) "
   ]
  },
  {
   "cell_type": "code",
   "execution_count": null,
   "metadata": {},
   "outputs": [],
   "source": [
    "list_item_returned = pd.merge(order_details_table, returned_item_table, left_on='ORDER_DETAIL_CODE', how='inner', right_on='ORDER_DETAIL_CODE')\n",
    "list_item_returned = pd.merge(list_item_returned, return_reason_table, left_on='RETURN_REASON_CODE', how='inner', right_on='RETURN_REASON_CODE')\n",
    "\n",
    "list_item_returned['QUANTITY'] = list_item_returned['QUANTITY'].astype(float)\n",
    "list_item_returned['RETURN_QUANTITY'] = list_item_returned['RETURN_QUANTITY'].astype(float)\n",
    "\n",
    "list_item_returned = list_item_returned[((list_item_returned['RETURN_QUANTITY'] / list_item_returned['QUANTITY']) > .90)].drop_duplicates('RETURN_REASON_CODE')\n",
    "list_item_returned = list_item_returned[['RETURN_DESCRIPTION_EN']]\n",
    "list_item_returned"
   ]
  },
  {
   "cell_type": "markdown",
   "metadata": {},
   "source": [
    "## Selecties op meerdere tabellen met functies"
   ]
  },
  {
   "cell_type": "markdown",
   "metadata": {},
   "source": [
    "Geef een overzicht met daarin per producttype het aantal producten die tot dat producttype behoren. (2 kolommen, 21 rijen) "
   ]
  },
  {
   "cell_type": "code",
   "execution_count": null,
   "metadata": {},
   "outputs": [],
   "source": [
    "producttype_list_aantal = pd.merge(product_type_table, product_table, left_on='PRODUCT_TYPE_CODE', how='inner', right_on='PRODUCT_TYPE_CODE')\n",
    "producttype_list_aantal = producttype_list_aantal.groupby('PRODUCT_TYPE_EN', as_index=False)['PRODUCT_NUMBER'].count()\n",
    "producttype_list_aantal"
   ]
  },
  {
   "cell_type": "markdown",
   "metadata": {},
   "source": [
    "Geef een overzicht met daarin per land het aantal vestigingen van klanten die zich in dat land bevinden. (2 kolommen, 21 rijen) "
   ]
  },
  {
   "cell_type": "code",
   "execution_count": null,
   "metadata": {},
   "outputs": [],
   "source": [
    "list_landen_vestigingen = pd.merge(country_table, retailer_site_table, left_on='COUNTRY_CODE', how='inner', right_on='COUNTRY_CODE')\n",
    "list_landen_vestigingen = list_landen_vestigingen.groupby('COUNTRY', as_index=False)['RETAILER_SITE_CODE'].count()\n",
    "list_landen_vestigingen"
   ]
  },
  {
   "cell_type": "markdown",
   "metadata": {},
   "source": [
    "Geef een overzicht met daarin van de producten behorend tot het producttype ‘Cooking Gear’ per productnaam de totaal verkochte hoeveelheid en de gemiddelde verkoopprijs. Sorteer de uitkomst op totaal verkochte hoeveelheid. (4 kolommen, 10 rijen)\n",
    "# This needs to be checked!"
   ]
  },
  {
   "cell_type": "code",
   "execution_count": null,
   "metadata": {},
   "outputs": [],
   "source": [
    "# This needs to be checked!\n",
    "print(\"\\033[91mproduct_cooking_gear_list\\033[0m\")\n",
    "\n",
    "\n",
    "product_cooking_gear_list = pd.merge(product_table, product_type_table)\n",
    "product_cooking_gear_list = pd.merge(product_cooking_gear_list, order_details_table)\n",
    "\n",
    "product_cooking_gear_list = product_cooking_gear_list[product_cooking_gear_list['PRODUCT_TYPE_EN'] == 'Cooking Gear']\n",
    "\n",
    "product_cooking_gear_list['UNIT_PRICE'] = pd.to_numeric(product_cooking_gear_list['UNIT_PRICE'], errors='coerce')\n",
    "\n",
    "product_cooking_gear_list = product_cooking_gear_list.groupby(['PRODUCT_NAME', 'PRODUCT_TYPE_EN'], as_index=False).agg({'UNIT_PRICE': 'mean',  'QUANTITY': 'sum'}).sort_values('QUANTITY', ascending=False)\n",
    "product_cooking_gear_list"
   ]
  },
  {
   "cell_type": "markdown",
   "metadata": {},
   "source": [
    "Geef een overzicht met daarin van de verkopers behorend tot de verkoopafdeling uit ‘Amsterdam’ de voornaam en achternaam van de verkoper en zijn laagste en hoogste verkooptarget van 2006. (4 kolommen, 4 rijen) "
   ]
  },
  {
   "cell_type": "code",
   "execution_count": null,
   "metadata": {},
   "outputs": [],
   "source": [
    "sales_staff_branch = pd.merge(sales_staff_table, sales_branch_table)\n",
    "sales_staff_branch = sales_staff_branch[sales_staff_branch['CITY'] == 'Amsterdam']\n",
    "sales_staff_branch = pd.merge(sales_staff_branch, SALES_TARGET_Data_table, 'left')\n",
    "\n",
    "# Filter out rows with missing sales targets\n",
    "sales_staff_branch = sales_staff_branch[sales_staff_branch['SALES_TARGET'].notna()]\n",
    "\n",
    "# Group by salesperson and get the lowest and highest sales targets\n",
    "result = sales_staff_branch.groupby(['FIRST_NAME', 'LAST_NAME'], as_index=False).agg({'SALES_TARGET': ['min', 'max']})\n",
    "\n",
    "# Rename columns for clarity\n",
    "result.columns = ['FIRST_NAME', 'LAST_NAME', 'MIN_SALES_TARGET', 'MAX_SALES_TARGET']\n",
    "\n",
    "# Display the resulting DataFrame\n",
    "result"
   ]
  },
  {
   "cell_type": "markdown",
   "metadata": {},
   "source": [
    "Geef een overzicht met daarin per land de naam van het land, de naam van de stad waar de verkoopafdeling is gevestigd (noem de kolomnaam in het overzicht ‘verkoper’) en het aantal steden waar zich klanten bevinden in dat land (noem de kolomnaam in het overzicht ‘klanten’) (3 kolommen, 29 rijen) "
   ]
  },
  {
   "cell_type": "code",
   "execution_count": null,
   "metadata": {},
   "outputs": [],
   "source": [
    "overview = pd.merge(country_table, sales_branch_table, left_on='COUNTRY_CODE', right_on='COUNTRY_CODE')\n",
    "overview = pd.merge(overview, retailer_site_table, left_on='CITY', right_on='CITY', how='left')\n",
    "\n",
    "overview = overview.groupby(['COUNTRY', 'CITY'], as_index=False).agg({'RETAILER_SITE_CODE': 'nunique'})\n",
    "overview.columns = ['LAND', 'VERKOPER', 'KLANTEN']\n",
    "\n",
    "overview"
   ]
  },
  {
   "cell_type": "markdown",
   "metadata": {},
   "source": [
    "## Pythonvertalingen van SUBSELECT en UNION met o.a. for-loops"
   ]
  },
  {
   "cell_type": "markdown",
   "metadata": {},
   "source": [
    "Geef een overzicht met daarin de voornaam en de achternaam van de medewerkers die nog nooit wat hebben verkocht (2 kolommen, 25 rijen) "
   ]
  },
  {
   "cell_type": "code",
   "execution_count": null,
   "metadata": {},
   "outputs": [],
   "source": [
    "sales_staff_no_sales = []\n",
    "\n",
    "for index, row in sales_staff_table.iterrows():\n",
    "    if order_header_table[order_header_table['SALES_STAFF_CODE'] == row['SALES_STAFF_CODE']].empty:\n",
    "        sales_staff_no_sales.append({'FIRST_NAME': row['FIRST_NAME'], 'LAST_NAME': row['LAST_NAME']})\n",
    "\n",
    "sales_staff_no_sales = pd.DataFrame(sales_staff_no_sales)\n",
    "sales_staff_no_sales"
   ]
  },
  {
   "cell_type": "markdown",
   "metadata": {},
   "source": [
    "Geef een overzicht met daarin het aantal producten waarvan de marge lager is dan de gemiddelde marge van alle producten samen. Geef in het overzicht tevens aan wat de gemiddelde marge is van dit aantal producten waarvan de marge lager dan de gemiddelde marge van alle producten samen is. (1 kolom, 2 rijen) "
   ]
  },
  {
   "cell_type": "code",
   "execution_count": null,
   "metadata": {},
   "outputs": [],
   "source": [
    "product_table['MARGIN'] = product_table['MARGIN'].astype(float)\n",
    "# Calculate the average margin of all products\n",
    "average_margin = product_table['MARGIN'].mean()\n",
    "\n",
    "num_lower_margin_products = 0\n",
    "total_lower_margin = 0\n",
    "\n",
    "for margin in product_table['MARGIN']:\n",
    "    if margin < average_margin:\n",
    "        num_lower_margin_products += 1\n",
    "        total_lower_margin += margin\n",
    "\n",
    "average_lower_margin = total_lower_margin / num_lower_margin_products\n",
    "\n",
    "overview = pd.DataFrame({'Number of Products': [num_lower_margin_products], 'Average Margin of Lower Margin Products': [average_lower_margin]})\n",
    "overview\n"
   ]
  },
  {
   "cell_type": "markdown",
   "metadata": {},
   "source": [
    "Geef een overzicht met daarin de namen van de producten die voor meer dan 500 (verkoopprijs) zijn verkocht maar nooit zijn teruggebracht. (1 kolom, 13 rijen) "
   ]
  },
  {
   "cell_type": "code",
   "execution_count": null,
   "metadata": {},
   "outputs": [],
   "source": [
    "order_details_table['UNIT_SALE_PRICE'] = order_details_table['UNIT_SALE_PRICE'].astype(float)\n",
    "order_details_table['QUANTITY'] = order_details_table['QUANTITY'].astype(float)\n",
    "\n",
    "table_this = pd.merge(order_details_table, product_table)\n",
    "table_this = pd.merge(table_this, returned_item_table, how='left')\n",
    "\n",
    "product_names = []\n",
    "\n",
    "for index, row in table_this.iterrows():\n",
    "    if (row['UNIT_SALE_PRICE'] * row['QUANTITY'] > 500) and pd.isna(row['ORDER_DETAIL_CODE']):\n",
    "        product_names.append(row['PRODUCT_NAME'])\n",
    "\n",
    "result = pd.DataFrame({'Product Name': product_names})\n",
    "result\n"
   ]
  },
  {
   "cell_type": "markdown",
   "metadata": {},
   "source": [
    "Geef een overzicht met daarin per (achternaam van) medewerker of hij/zij manager is of niet, door deze informatie toe te voegen als extra 'Ja/Nee'-kolom.<br>\n",
    "Hint: gebruik een for-loop waarin je o.a. bepaalt of het woord 'Manager' in de functie (position_en) staat. (2 kolommen, 102 rijen)."
   ]
  },
  {
   "cell_type": "code",
   "execution_count": null,
   "metadata": {},
   "outputs": [],
   "source": [
    "manager_status = []\n",
    "\n",
    "for index, row in sales_staff_table.iterrows():\n",
    "    if 'Manager' in row['POSITION_EN']:\n",
    "        # If 'Manager' is present, append 'Ja' to the manager_status list\n",
    "        manager_status.append('Ja')\n",
    "    else:\n",
    "        # If 'Manager' is not present, append 'Nee' to the manager_status list\n",
    "        manager_status.append('Nee')\n",
    "\n",
    "sales_staff_table['Manager'] = manager_status\n",
    "sales_staff_table[['LAST_NAME', 'Manager']]\n"
   ]
  },
  {
   "cell_type": "markdown",
   "metadata": {},
   "source": [
    "Met de onderstaande code laat je Python het huidige jaar uitrekenen."
   ]
  },
  {
   "cell_type": "code",
   "execution_count": null,
   "metadata": {},
   "outputs": [],
   "source": [
    "from datetime import date\n",
    "date.today().year"
   ]
  },
  {
   "cell_type": "markdown",
   "metadata": {},
   "source": [
    "Met de onderstaande code selecteer je op een bepaald jaartal uit een datum."
   ]
  },
  {
   "cell_type": "code",
   "execution_count": null,
   "metadata": {},
   "outputs": [],
   "source": [
    "from datetime import datetime\n",
    "\n",
    "date_str = '16-8-2013'\n",
    "date_format = '%d-%m-%Y'\n",
    "date_obj = datetime.strptime(date_str, date_format)\n",
    "\n",
    "date_obj.year"
   ]
  },
  {
   "cell_type": "markdown",
   "metadata": {},
   "source": [
    "Geef met behulp van bovenstaande hulpcode een overzicht met daarin op basis van het aantal jaar dat iemand in dienst is of een medewerker ‘kort in dienst’ (minder dan 25 jaar in dienst) of een ‘lang in dienst’ (groter gelijk dan 12 jaar in dienst) is. Geef daarbij per medewerker in een aparte kolom zowel ‘kort in dienst’ als ‘lang in dienst’ aan. Gebruik (wederom) een for-loop.<br>\n",
    "(2 kolommen, 102 rijen) "
   ]
  },
  {
   "cell_type": "code",
   "execution_count": null,
   "metadata": {},
   "outputs": [],
   "source": [
    "from datetime import date\n",
    "\n",
    "current_year = date.today().year\n",
    "\n",
    "sales_staff_table['DATE_HIRED'] = pd.to_datetime(sales_staff_table['DATE_HIRED'])\n",
    "\n",
    "employee_names = []\n",
    "tenure_categories = []\n",
    "\n",
    "for index, row in sales_staff_table.iterrows():\n",
    "    # Calculate the number of years in service\n",
    "    years_in_service = current_year - row['DATE_HIRED'].year\n",
    "\n",
    "    if years_in_service <= 12:\n",
    "        tenure_category = 'kort in dienst'\n",
    "    else:\n",
    "        tenure_category = 'lang in dienst'\n",
    "\n",
    "    employee_names.append(row['LAST_NAME'])\n",
    "    tenure_categories.append(tenure_category)\n",
    "\n",
    "overview = pd.DataFrame({'Employee Name': employee_names, 'Tenure Category': tenure_categories})\n",
    "overview\n"
   ]
  }
 ],
 "metadata": {
  "kernelspec": {
   "display_name": "python-in-deds-P4iSP_yI-py3.11",
   "language": "python",
   "name": "python3"
  },
  "language_info": {
   "codemirror_mode": {
    "name": "ipython",
    "version": 3
   },
   "file_extension": ".py",
   "mimetype": "text/x-python",
   "name": "python",
   "nbconvert_exporter": "python",
   "pygments_lexer": "ipython3",
   "version": "3.12.2"
  }
 },
 "nbformat": 4,
 "nbformat_minor": 2
}
