{
 "cells": [
  {
   "cell_type": "markdown",
   "metadata": {},
   "source": [
    "# Practicumopdrachten Week 2.2 (eerste kans)"
   ]
  },
  {
   "cell_type": "markdown",
   "metadata": {},
   "source": [
    "## Dependencies importeren"
   ]
  },
  {
   "cell_type": "markdown",
   "metadata": {},
   "source": [
    "Importeer in het codeblok hieronder de packages die worden gebruikt om data in te lezen. Geef er ook de gebruikelijke aliassen aan.<br>\n",
    "N.B.: de 2 reeds geschreven coderegels zorgen ervoor dat eventuele warnings, die code-outputs lelijker maken, uitgezet worden."
   ]
  },
  {
   "cell_type": "code",
   "execution_count": null,
   "metadata": {},
   "outputs": [],
   "source": [
    "\n",
    "import warnings\n",
    "warnings.simplefilter('ignore')"
   ]
  },
  {
   "cell_type": "markdown",
   "metadata": {},
   "source": [
    "Zet het bestand go_sales.sqlite in hetzelfde mapje als dit notebook."
   ]
  },
  {
   "cell_type": "markdown",
   "metadata": {},
   "source": [
    "## Databasetabel inlezen"
   ]
  },
  {
   "cell_type": "markdown",
   "metadata": {},
   "source": [
    "Creëer een databaseconnectie met het bestand go_sales.sqlite."
   ]
  },
  {
   "cell_type": "code",
   "execution_count": null,
   "metadata": {},
   "outputs": [],
   "source": [
    "import pandas as pd\n",
    "import sqlite3\n",
    "from IPython.display import display\n",
    "\n",
    "# st = pd.read_csv('..\\..\\sqllite\\GO_SALES_INVENTORY_LEVELSData.csv')\n",
    "# print(st.tail(10))\n",
    "\n",
    "#conn = sqlite3.connect('..\\..\\sqllite\\go_sales.sqlite') remove\n",
    "conn = sqlite3.connect('..\\\\..\\\\sqllite\\\\go_sales.sqlite')\n",
    "\n",
    "# show rows and columns\n",
    "# pd.set_option('display.max_rows', 8)\n",
    "# pd.set_option('display.max_columns', None)\n",
    "\n",
    "# # Reset display options to default\n",
    "pd.reset_option('display.max_rows')\n",
    "pd.reset_option('display.max_columns')"
   ]
  },
  {
   "cell_type": "markdown",
   "metadata": {},
   "source": [
    "Gebruik de onderstaande sql_query om te achterhalen welke databasetabellen in go_sales zitten."
   ]
  },
  {
   "cell_type": "code",
   "execution_count": null,
   "metadata": {},
   "outputs": [],
   "source": [
    "# sql_query = \"SELECT name FROM sqlite_master WHERE type='table';\"\n",
    "# df = pd.read_sql_query(sql_query, conn)\n",
    "# print(df.tail(5))\n",
    "\n",
    "sql_query = \"SELECT name FROM sqlite_master WHERE type='table';\"\n",
    "pd.read_sql_query(sql_query, conn) # Uitvoeren van de query"
   ]
  },
  {
   "cell_type": "markdown",
   "metadata": {},
   "source": [
    "Gebruik de gecreëerde databaseconnectie om de resultaten van de volgende query in een DataFrame te zetten:<br>\n",
    "*SELECT * FROM sales_staff* "
   ]
  },
  {
   "cell_type": "code",
   "execution_count": null,
   "metadata": {},
   "outputs": [],
   "source": [
    "medewerkers = pd.read_sql_query(\"SELECT * FROM sales_staff\", conn)\n",
    "medewerkers"
   ]
  },
  {
   "cell_type": "markdown",
   "metadata": {},
   "source": [
    "## DataFrames uitsplitsen en opbouwen met Series"
   ]
  },
  {
   "cell_type": "markdown",
   "metadata": {},
   "source": [
    "De volgende 5 kolommen hebben betrekking op de contactdetails van elke medewerker in dit DataFrame:\n",
    "- SALES_STAFF_CODE\n",
    "- WORK_PHONE\n",
    "- EXTENSION\n",
    "- FAX\n",
    "- EMAIL\n",
    "\n",
    "Maak van elk van deze 5 kolommen een serie."
   ]
  },
  {
   "cell_type": "code",
   "execution_count": null,
   "metadata": {},
   "outputs": [],
   "source": [
    "# Create Series from DataFrame columns\n",
    "series1 = pd.Series(medewerkers['SALES_STAFF_CODE'])\n",
    "series2 = pd.Series(medewerkers['WORK_PHONE'])\n",
    "series3 = pd.Series(medewerkers['EXTENSION'])\n",
    "series4 = pd.Series(medewerkers['FAX'])\n",
    "series5 = pd.Series(medewerkers['EMAIL'])"
   ]
  },
  {
   "cell_type": "markdown",
   "metadata": {},
   "source": [
    "Zet allevijf gecreëerde series als kolommen naast elkaar in een DataFrame (*contact_details*). Gebruik pd.concat(...)<br>\n",
    "Hulpvraag: welke waarde geef je aan de axis-parameter?"
   ]
  },
  {
   "cell_type": "code",
   "execution_count": null,
   "metadata": {},
   "outputs": [],
   "source": [
    "# Concatenate the Series into a DataFrame\n",
    "contact_details = pd.concat([series1, series2, series3, series4, series5], axis=1)\n",
    "\n",
    "# print(contact_details)\n",
    "# display(contact_details)\n",
    "contact_details"
   ]
  },
  {
   "cell_type": "markdown",
   "metadata": {},
   "source": [
    "## Series en DataFrames maken vanuit lists en dictionaries"
   ]
  },
  {
   "cell_type": "markdown",
   "metadata": {},
   "source": [
    "Met .head(*getal*) kan je de bovenste *getal* rijen van een tabel selecteren.<br>\n",
    "Selecteer op deze manier de bovenste 5 rijen van *contact_details*.<br>\n",
    "Sla dit resultaat op in een nieuw DataFrame."
   ]
  },
  {
   "cell_type": "code",
   "execution_count": null,
   "metadata": {},
   "outputs": [],
   "source": [
    "# nieuwe_dataframe = display(contact_details.head(10)) display only displays, doesn't return a value\n",
    "nieuwe_dataframe = contact_details.head(10)\n",
    "nieuwe_dataframe"
   ]
  },
  {
   "cell_type": "markdown",
   "metadata": {},
   "source": [
    "Aan deze 10 rijen met contactdetails willen we 3 kolommen toevoegen: 'FIRST_LANGUAGE', 'SECOND_LANGUAGE' & 'THIRD_LANGUAGE'.<br>\n",
    "Iedereens 'First Language' is Engels, afgekort 'EN'. Maak een lijst waarin 5x 'EN' staat.<br>\n",
    "Converteer deze lijst vervolgens naar een serie en voeg deze horizontaal samen met het resultaat van de vorige opdracht.<br>\n",
    "Vergeet niet een passende naam te geven aan de nieuw ontstane kolom."
   ]
  },
  {
   "cell_type": "code",
   "execution_count": null,
   "metadata": {},
   "outputs": [],
   "source": [
    "# lang lists\n",
    "first_language_list = ['EN'] * 10\n",
    "# second_language_list = None # have to create a list first and then convert to Series to have empty column\n",
    "# third_language_list = None\n",
    "\n",
    "# convert the lang lists to Series\n",
    "first_language_list_series = pd.Series(first_language_list, name='FIRST_LANGUAGE')\n",
    "# second_language_list_series = pd.Series(second_language_list, name='SECOND_LANGUAGE')\n",
    "# third_language_list_series = pd.Series(third_language_list, name='THIRD_LANGUAGE')\n",
    "\n",
    "# Concatenate to the DataFrame: niewe_dataframe\n",
    "# extended_contact_details = pd.concat([nieuwe_dataframe, first_language_list_series, second_language_list_series, third_language_list_series], axis=1)\n",
    "extended_nieuwe_dataframe = pd.concat([nieuwe_dataframe, first_language_list_series], axis=1)\n",
    "\n",
    "extended_nieuwe_dataframe"
   ]
  },
  {
   "cell_type": "markdown",
   "metadata": {},
   "source": [
    "Maak nu de tweede kolom ('SECOND_LANGUAGE'). Maak daarvoor een dictionary, met daarin...\n",
    "- Als keys: alle indexen uit het resultaat van het vorige codeblok.\n",
    "- Als values: bij de eerste 3 elementen 'FR' (Frankrijk), bij de laatste 2 'DE' (Duitsland).\n",
    "\n",
    "Maak vervolgens ook hier weer een serie van en voeg ook deze weer horizontaal samen met het resultaat van de vorige opdracht.<br>\n",
    "Vergeet niet een passende naam te geven aan de nieuw ontstane kolom."
   ]
  },
  {
   "cell_type": "code",
   "execution_count": null,
   "metadata": {},
   "outputs": [],
   "source": [
    "second_language_dict = {0: 'FR', 1: 'FR', 2: 'FR', 3: None, 4: None, 5: None, 6: None, 7: None, 8: 'DE', 9: 'DE'}\n",
    "\n",
    "# Convert the dictionary to a Series\n",
    "second_language_series = pd.Series(second_language_dict)\n",
    "\n",
    "extended_nieuwe_dataframe['SECOND_LANGUAGE'] = second_language_series\n",
    "\n",
    "# # Concatenate the DataFrame and second_language_series\n",
    "# extended_nieuwe_dataframe = pd.concat([extended_nieuwe_dataframe, pd.DataFrame(second_language_series)], ignore_index=True)\n",
    "\n",
    "extended_nieuwe_dataframe"
   ]
  },
  {
   "cell_type": "markdown",
   "metadata": {},
   "source": [
    "Maak ten slotte de derde kolom ('THIRD_LANGUAGE') door een dictionary te maken met daarin...\n",
    "- Als key: de naam van de nieuwe kolom. Zie je het verschil qua keys met de vorige opdracht?\n",
    "- Als waarde: een lijst met daarin 'NL', 'NL', 'JPN', 'JPN', 'KOR'.\n",
    "\n",
    "Converteer deze dictionary nu naar een DataFrame en voeg deze horizontaal samen met het resultaat van de vorige opdracht.<br>\n",
    "Waarom hoef je hierna de nieuw ontstane kolom geen passende naam meer te geven?"
   ]
  },
  {
   "cell_type": "code",
   "execution_count": null,
   "metadata": {},
   "outputs": [],
   "source": [
    "third_language_kolom_dict = { 'THIRD_LANGUAGE': ['NL', 'NL', 'JPN', 'NL', 'NL', 'NL', 'NL', 'NL', 'JPN', 'KOR'] }\n",
    "\n",
    "# extended_nieuwe_dataframe = pd.concat([extended_nieuwe_dataframe, pd.DataFrame(third_language_kolom_dict)], ignore_index=True)\n",
    "\n",
    "# Directly assign the new column to the DataFrame\n",
    "extended_nieuwe_dataframe['THIRD_LANGUAGE'] = third_language_kolom_dict['THIRD_LANGUAGE']\n",
    "extended_nieuwe_dataframe"
   ]
  },
  {
   "cell_type": "markdown",
   "metadata": {},
   "source": [
    "## Data toevoegen"
   ]
  },
  {
   "cell_type": "markdown",
   "metadata": {},
   "source": [
    "### Rijen"
   ]
  },
  {
   "cell_type": "markdown",
   "metadata": {},
   "source": [
    "Gebruik de originele databasetabel *sales_staff*.<br>\n",
    "Voeg een extra rij toe met eigen invulling. Zorg ervoor dat de index netjes doorloopt.<br>\n",
    "Hulpvraag: welke waarde geef je nu aan axis?"
   ]
  },
  {
   "cell_type": "code",
   "execution_count": null,
   "metadata": {},
   "outputs": [],
   "source": [
    "sales_staff = sqlite3.connect('..\\\\..\\\\sqllite\\\\go_staff.sqlite')\n",
    "\n",
    "sql_query = \"SELECT name FROM sqlite_master WHERE type='table';\"\n",
    "display(pd.read_sql_query(sql_query, sales_staff)) # Uitvoeren van de query\n",
    "\n",
    "nieuwe_medewerkers_dictionary = {\n",
    "    'SALES_STAFF_CODE': [888, 999],\n",
    "    'FIRST_NAME': ['John', 'Jane'],\n",
    "    'LAST_NAME': ['Doe', 'Doe'],\n",
    "    'POSITION_EN': ['Level 999 Sales Representative', 'Level 1000 Sales Representative'],\n",
    "    'WORK_PHONE': ['555-1234', '555-1235'],\n",
    "    'EXTENSION': [None, None],\n",
    "    'FAX': [None, None],\n",
    "    'EMAIL': ['YUMA@GMAIL.COM', 'YUMATOO@GMAIL.COM'],\n",
    "    'DATE_HIRED': ['2019-01-01', '2019-01-01'],\n",
    "    'SALES_BRANCH_CODE': [1, 1],\n",
    "    'TRIAL888': [None, None]\n",
    "}\n",
    "\n",
    "nieuwe_medewerkers_dictionary_single = {\n",
    "    'SALES_STAFF_CODE': 777,\n",
    "    'FIRST_NAME': 'Kimberly',\n",
    "    'LAST_NAME': 'Doe',\n",
    "    'POSITION_EN': 'Level 1000 Sales Representative',\n",
    "    'WORK_PHONE': '555-1234',\n",
    "    'EXTENSION':  None,\n",
    "    'FAX': None,\n",
    "    'EMAIL': 'YUMAkugaaa@GMAIL.COM',\n",
    "    'DATE_HIRED': '2019-01-01',\n",
    "    'SALES_BRANCH_CODE': 1,\n",
    "    'TRIAL888': None\n",
    "}\n",
    "\n",
    "medewerkers02 = pd.read_sql_query(\"SELECT * FROM sales_staff\", sales_staff)\n",
    "medewerkers02 = pd.concat([medewerkers02, pd.DataFrame([nieuwe_medewerkers_dictionary_single])], ignore_index=True)\n",
    "\n",
    "medewerkers02"
   ]
  },
  {
   "cell_type": "markdown",
   "metadata": {},
   "source": [
    "### Kolommen"
   ]
  },
  {
   "cell_type": "markdown",
   "metadata": {},
   "source": [
    "Voeg een kolom *FULL_NAME* toe die de waarden van *FIRST_NAME* en *LAST_NAME* achter elkaar zet, gescheiden door een spatie."
   ]
  },
  {
   "cell_type": "code",
   "execution_count": null,
   "metadata": {},
   "outputs": [],
   "source": [
    "medewerkers02['FULL_NAME'] = medewerkers02['FIRST_NAME'] + ' ' + medewerkers02['LAST_NAME']\n",
    "medewerkers02"
   ]
  },
  {
   "cell_type": "markdown",
   "metadata": {},
   "source": [
    "## Data wijzigen"
   ]
  },
  {
   "cell_type": "markdown",
   "metadata": {},
   "source": [
    "### Datatypen"
   ]
  },
  {
   "cell_type": "markdown",
   "metadata": {},
   "source": [
    "Door het attribuut .dtypes van een DataFrame op te vragen krijg je een serie die per kolom het datatype weergeeft. Doe dit bij de originele databasetabel *sales_staff*"
   ]
  },
  {
   "cell_type": "code",
   "execution_count": null,
   "metadata": {},
   "outputs": [],
   "source": [
    "medewerkers02.dtypes\n"
   ]
  },
  {
   "cell_type": "markdown",
   "metadata": {},
   "source": [
    "Hier valt op dat elke kolom het datatype 'object' heeft: Python leest dus alles als string. Wiskundige operaties zijn hierdoor niet mogelijk.<br>\n",
    "We kunnen proberen om kolommen met getallen, bijvoorbeeld de 'extension', te converteren naar een int. Zie onderstaande code."
   ]
  },
  {
   "cell_type": "code",
   "execution_count": null,
   "metadata": {},
   "outputs": [],
   "source": [
    "medewerkers02['EXTENSION'] = medewerkers02['EXTENSION'].astype(int)\n",
    "medewerkers02.dtypes"
   ]
  },
  {
   "cell_type": "markdown",
   "metadata": {},
   "source": [
    "Dit lukt echter niet, omdat er in de kolom 'EXTENSION' lege waarden zitten die niet geconverteerd kunnen worden naar een int.<br>\n",
    "Wél kan je deze naar een float converteren, zie onderstaande code:"
   ]
  },
  {
   "cell_type": "code",
   "execution_count": null,
   "metadata": {},
   "outputs": [],
   "source": [
    "medewerkers02['EXTENSION'] = medewerkers02['EXTENSION'].astype(float)\n",
    "medewerkers02.dtypes"
   ]
  },
  {
   "cell_type": "markdown",
   "metadata": {},
   "source": [
    "Als we in de rij van 'EXTENSION' kijken zien we dat de conversie van het datatype nu is gelukt.<br>\n",
    "Dit is <b>randvoorwaardelijk</b> voor het uitvoeren van wiskundige operaties.<br>"
   ]
  },
  {
   "cell_type": "markdown",
   "metadata": {},
   "source": [
    "### Rijen"
   ]
  },
  {
   "cell_type": "markdown",
   "metadata": {},
   "source": [
    "Zorg er nu voor dat bij alle extensions 1 wordt opgeteld."
   ]
  },
  {
   "cell_type": "code",
   "execution_count": null,
   "metadata": {},
   "outputs": [],
   "source": [
    "medewerkers02['EXTENSION'] += 1\n",
    "medewerkers02"
   ]
  },
  {
   "cell_type": "markdown",
   "metadata": {},
   "source": [
    "Elke 'Branch Manager' wordt nu 'General Manager'. Schrijf code zodat deze wijziging doorgevoerd wordt in het DataFrame."
   ]
  },
  {
   "cell_type": "code",
   "execution_count": null,
   "metadata": {},
   "outputs": [],
   "source": [
    "medewerkers02 = medewerkers02.replace('Branch Manager', 'General Manager')\n",
    "medewerkers02"
   ]
  },
  {
   "cell_type": "markdown",
   "metadata": {},
   "source": [
    "### Kolommen"
   ]
  },
  {
   "cell_type": "markdown",
   "metadata": {},
   "source": [
    "Verander de kolomnaam 'POSITION_EN' naar 'POSITION'."
   ]
  },
  {
   "cell_type": "code",
   "execution_count": null,
   "metadata": {},
   "outputs": [],
   "source": [
    "medewerkers02 = medewerkers02.rename(columns={'POSITION_EN': 'POSITION'})\n",
    "medewerkers02"
   ]
  },
  {
   "cell_type": "markdown",
   "metadata": {},
   "source": [
    "## Data verwijderen"
   ]
  },
  {
   "cell_type": "markdown",
   "metadata": {},
   "source": [
    "### Rijen"
   ]
  },
  {
   "cell_type": "markdown",
   "metadata": {},
   "source": [
    "De medewerkers op indexen 99, 100 en 101 hebben helaas ontslag genomen.<br>\n",
    "Verwijder de bijbehorende rijen uit het DataFrame. Gebruik slechts één keer de .drop()-methode."
   ]
  },
  {
   "cell_type": "code",
   "execution_count": null,
   "metadata": {},
   "outputs": [],
   "source": [
    "medewerkers02 = medewerkers02.drop([99, 100, 101], axis=0)\n",
    "medewerkers02"
   ]
  },
  {
   "cell_type": "markdown",
   "metadata": {},
   "source": [
    "### Kolommen"
   ]
  },
  {
   "cell_type": "markdown",
   "metadata": {},
   "source": [
    "Faxen zijn inmiddels ouderwets: niemand gebruikt zijn/haar faxnummer nog.<br>\n",
    "Verwijder de bijbehorende kolom uit het DataFrame."
   ]
  },
  {
   "cell_type": "code",
   "execution_count": null,
   "metadata": {},
   "outputs": [],
   "source": [
    "medewerkers02 = medewerkers02.drop('FAX', axis=1)\n",
    "medewerkers02"
   ]
  }
 ],
 "metadata": {
  "kernelspec": {
   "display_name": "python-in-deds-P4iSP_yI-py3.11",
   "language": "python",
   "name": "python3"
  },
  "language_info": {
   "codemirror_mode": {
    "name": "ipython",
    "version": 3
   },
   "file_extension": ".py",
   "mimetype": "text/x-python",
   "name": "python",
   "nbconvert_exporter": "python",
   "pygments_lexer": "ipython3",
   "version": "3.12.2"
  }
 },
 "nbformat": 4,
 "nbformat_minor": 2
}
