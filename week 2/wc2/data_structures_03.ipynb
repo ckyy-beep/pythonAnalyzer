{
 "cells": [
  {
   "cell_type": "markdown",
   "metadata": {},
   "source": [
    "<h1> Datasctructures and Algorithms </h1>"
   ]
  },
  {
   "cell_type": "markdown",
   "metadata": {},
   "source": [
    "<h2> 1. Lists </h2>"
   ]
  },
  {
   "cell_type": "markdown",
   "metadata": {},
   "source": [
    "- Algoritme: Breadth-First Search (BFS)\n",
    "- Gebruik: Het doorzoeken van een graaf om het kortste pad of de kortste afstand tussen twee knooppunten te vinden.\n",
    "- Complexiteit: O(V + E) voor een ongewogen graaf, waar V het aantal vertices is en E het aantal edges. Dit komt omdat elk knooppunt en elke rand in het slechtste geval één keer wordt bezocht."
   ]
  },
  {
   "cell_type": "code",
   "execution_count": null,
   "metadata": {},
   "outputs": [],
   "source": []
  },
  {
   "cell_type": "markdown",
   "metadata": {},
   "source": [
    "<h2> 2. Dictionary </h2>"
   ]
  },
  {
   "cell_type": "markdown",
   "metadata": {},
   "source": [
    "- Algoritme: Counting Sort \n",
    "- Gebruik: Door het gebruik van een dictionary worden de hoeveelheid unieke elementen opgeteld en op die manier krijg je een gesoorteerde lijst.\n",
    "- Complexiteit: O(n + k) De tel fase neemt O(n) tijd en de bouw fase neemt O(k) tijd voor het itereren van unieke keys."
   ]
  },
  {
   "cell_type": "code",
   "execution_count": null,
   "metadata": {},
   "outputs": [],
   "source": [
    "Dict = {}\n",
    "\n",
    "keys = ['Name', 'Age', 1, 2]\n",
    "values = ['Aiken', 23, 100, 200]\n",
    "\n",
    "for i in range(len(keys)):\n",
    "    Dict[keys[i]] = values[i]\n",
    "\n",
    "for key in Dict:\n",
    "    print(f\"{key}: {Dict[key]}\")\n",
    "\n",
    "keys = ['Name', 2]\n",
    "values = ['Chris', 400]\n",
    "\n",
    "for i in range(len(keys)):\n",
    "    Dict[keys[i]] = values[i]\n",
    "\n",
    "for key in Dict:\n",
    "    print(f\"{key}: {Dict[key]}\")"
   ]
  }
 ],
 "metadata": {
  "kernelspec": {
   "display_name": "pythonanalyzer-r8O-sSsi-py3.12",
   "language": "python",
   "name": "python3"
  },
  "language_info": {
   "codemirror_mode": {
    "name": "ipython",
    "version": 3
   },
   "file_extension": ".py",
   "mimetype": "text/x-python",
   "name": "python",
   "nbconvert_exporter": "python",
   "pygments_lexer": "ipython3",
   "version": "3.12.2"
  }
 },
 "nbformat": 4,
 "nbformat_minor": 2
}
