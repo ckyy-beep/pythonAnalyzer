{
 "cells": [
  {
   "cell_type": "markdown",
   "metadata": {},
   "source": [
    "<h1> Datasctructures and Algorithms </h1>"
   ]
  },
  {
   "cell_type": "markdown",
   "metadata": {},
   "source": [
    "<h2> 1. Lists </h2>"
   ]
  },
  {
   "cell_type": "markdown",
   "metadata": {},
   "source": [
    "- Algoritme: Bubble Sort\n",
    "- Gebruik: Sorteren van een lijst van getallen.\n",
    "- Complexiteit: \n",
    "- Tijdscomplexiteit: \n",
    "- O(n) - In het beste geval, waarbij de lijst al gesorteerd is, hoeft er maar één keer door de lijst gelopen te worden.\n",
    "- O(n^2) - In het gemiddelde geval, waarbij de lijst in willekeurige volgorde staat, moeten er n keer n-1 vergelijkingen/verwisselingen plaatsvinden.\n",
    "- O(n^2) - In het slechtste geval, waarbij de lijst in omgekeerde volgorde staat, moeten er n keer n-1 vergelijkingen/verwisselingen plaatsvinden.\n",
    "- Ruimtecomplexiteit: O(1) - Bubble Sort heeft geen extra geheugenruimte nodig."
   ]
  },
  {
   "cell_type": "code",
   "execution_count": null,
   "metadata": {},
   "outputs": [],
   "source": [
    "def bubble_sort(arr):\n",
    "    n = len(arr)\n",
    "\n",
    "    for i in range(n):\n",
    "        # Het grootste element gaat naar rechts \"bubbelen/zinken\"\n",
    "        for j in range(0, n-i-1):\n",
    "            if arr[j] > arr[j+1]:\n",
    "                arr[j], arr[j+1] = arr[j+1], arr[j]\n",
    "\n",
    "my_list = [64, 34, 25, 12, 22, 11, 90]\n",
    "print(\"Originele lijst:\", my_list)\n",
    "bubble_sort(my_list)\n",
    "print(\"Gesorteerde lijst:\", my_list)\n",
    "\n",
    "print()\n",
    "\n",
    "my_list.append(1)\n",
    "print(\"Originele lijst:\", my_list)\n",
    "bubble_sort(my_list)\n",
    "print(\"Gesorteerde lijst:\", my_list)\n",
    "\n",
    "print()\n",
    "\n",
    "del my_list[7]\n",
    "print(\"Originele lijst:\", my_list)"
   ]
  },
  {
   "cell_type": "markdown",
   "metadata": {},
   "source": [
    "<h2> 2. Lists </h2>"
   ]
  },
  {
   "cell_type": "markdown",
   "metadata": {},
   "source": []
  },
  {
   "cell_type": "code",
   "execution_count": null,
   "metadata": {},
   "outputs": [],
   "source": []
  }
 ],
 "metadata": {
  "kernelspec": {
   "display_name": "pythonanalyzer-r8O-sSsi-py3.12",
   "language": "python",
   "name": "python3"
  },
  "language_info": {
   "codemirror_mode": {
    "name": "ipython",
    "version": 3
   },
   "file_extension": ".py",
   "mimetype": "text/x-python",
   "name": "python",
   "nbconvert_exporter": "python",
   "pygments_lexer": "ipython3",
   "version": "3.12.2"
  }
 },
 "nbformat": 4,
 "nbformat_minor": 2
}
