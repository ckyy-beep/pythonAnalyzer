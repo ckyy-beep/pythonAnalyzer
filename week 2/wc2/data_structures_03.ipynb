{
 "cells": [
  {
   "cell_type": "markdown",
   "metadata": {},
   "source": [
    "<h1> Datasctructures and Algorithms </h1>"
   ]
  },
  {
   "cell_type": "markdown",
   "metadata": {},
   "source": [
    "<h2> 1. Lists </h2>"
   ]
  },
  {
   "cell_type": "markdown",
   "metadata": {},
   "source": [
    "- Algoritme: Bubble Sort\n",
    "- Gebruik: Sorteren van een lijst van getallen.\n",
    "- Complexiteit: \n",
    "- Tijdscomplexiteit: \n",
    "- O(n) - In het beste geval, waarbij de lijst al gesorteerd is, hoeft er maar één keer door de lijst gelopen te worden.\n",
    "- O(n^2) - In het gemiddelde geval, waarbij de lijst in willekeurige volgorde staat, moeten er n keer n-1 vergelijkingen/verwisselingen plaatsvinden.\n",
    "- O(n^2) - In het slechtste geval, waarbij de lijst in omgekeerde volgorde staat, moeten er n keer n-1 vergelijkingen/verwisselingen plaatsvinden.\n",
    "- Ruimtecomplexiteit: O(1) - Bubble Sort heeft geen extra geheugenruimte nodig."
   ]
  },
  {
   "cell_type": "code",
   "execution_count": null,
   "metadata": {},
   "outputs": [],
   "source": [
    "def bubble_sort(arr):\n",
    "    n = len(arr)\n",
    "\n",
    "    for i in range(n):\n",
    "        # Het grootste element gaat naar rechts \"bubbelen/zinken\"\n",
    "        for j in range(0, n-i-1):\n",
    "            if arr[j] > arr[j+1]:\n",
    "                arr[j], arr[j+1] = arr[j+1], arr[j]\n",
    "\n",
    "my_list = [64, 34, 25, 12, 22, 11, 90]\n",
    "print(\"Originele lijst:\", my_list)\n",
    "bubble_sort(my_list)\n",
    "print(\"Gesorteerde lijst:\", my_list)\n",
    "\n",
    "print()\n",
    "\n",
    "my_list.append(1)\n",
    "print(\"Originele lijst:\", my_list)\n",
    "bubble_sort(my_list)\n",
    "print(\"Gesorteerde lijst:\", my_list)\n",
    "\n",
    "print()\n",
    "\n",
    "# my_list.remove(22)\n",
    "\n",
    "del my_list[7]\n",
    "print(\"Originele lijst:\", my_list)"
   ]
  },
  {
   "cell_type": "markdown",
   "metadata": {},
   "source": [
    "<h2> 2. Dictionary </h2>"
   ]
  },
  {
   "cell_type": "markdown",
   "metadata": {},
   "source": [
    "**Algoritme:** \n",
    "- Counting Sort\n",
    "\n",
    "**Gebruik:** \n",
    "- Door het gebruik van een dictionary worden de hoeveelheid unieke elementen opgeteld en op die manier krijg je een gesoorteerde lijst.\n",
    "\n",
    "**Complexiteit:** \n",
    "- O(n + k) De tel fase neemt O(n) tijd en de bouw fase neemt O(k) tijd voor het itereren van unieke keys."
   ]
  },
  {
   "cell_type": "code",
   "execution_count": 1,
   "metadata": {},
   "outputs": [
    {
     "name": "stdout",
     "output_type": "stream",
     "text": [
      "Name: Aiken\n",
      "Age: 23\n",
      "1: 100\n",
      "2: 200\n",
      "Name: Chris\n",
      "Age: 23\n",
      "1: 100\n",
      "2: 400\n"
     ]
    }
   ],
   "source": [
    "Dict = {}\n",
    "\n",
    "keys = ['Name', 'Age', 1, 2]\n",
    "values = ['Aiken', 23, 100, 200]\n",
    "\n",
    "for i in range(len(keys)):\n",
    "    Dict[keys[i]] = values[i]\n",
    "\n",
    "for key in Dict:\n",
    "    print(f\"{key}: {Dict[key]}\")\n",
    "\n",
    "keys = ['Name', 2]\n",
    "values = ['Chris', 400]\n",
    "\n",
    "for i in range(len(keys)):\n",
    "    Dict[keys[i]] = values[i]\n",
    "\n",
    "for key in Dict:\n",
    "    print(f\"{key}: {Dict[key]}\")"
   ]
  },
  {
   "cell_type": "markdown",
   "metadata": {},
   "source": [
    "<h2> 3. Stack </h2>"
   ]
  },
  {
   "cell_type": "markdown",
   "metadata": {},
   "source": [
    "**Algortime:**\n",
    "- Evaluatie Postfix-uitdrukking\n",
    "\n",
    "**Beschrijving:**\n",
    "- Het algoritme evalueert een postfix-uitdrukking (ook wel bekend als Reverse Polish Notation) met behulp van een stapel. Het doorloopt de uitdrukking, voegt operanden toe aan de stapel en voert bewerkingen uit wanneer het operators tegenkomt.\n",
    "\n",
    "**Big O-analyse:**\n",
    "- Tijdcomplexiteit (Big O): O(N), waar N de lengte van de postfix-uitdrukking is. Elk karakter in de uitdrukking wordt eenmaal verwerkt."
   ]
  },
  {
   "cell_type": "code",
   "execution_count": null,
   "metadata": {},
   "outputs": [],
   "source": [
    "def evaluate_postfix(expression):\n",
    "    stack = []\n",
    "\n",
    "    operators = {'+', '-', '*', '/'}\n",
    "\n",
    "    for char in expression:\n",
    "        if char.isdigit():\n",
    "            stack.append(int(char))\n",
    "        elif char in operators:\n",
    "            operand2 = stack.pop()\n",
    "            operand1 = stack.pop()\n",
    "\n",
    "            if char == '+':\n",
    "                result = operand1 + operand2\n",
    "            elif char == '-':\n",
    "                result = operand1 - operand2\n",
    "            elif char == '*':\n",
    "                result = operand1 * operand2\n",
    "            elif char == '/':\n",
    "                result = operand1 / operand2\n",
    "\n",
    "            stack.append(result)\n",
    "\n",
    "    return stack.pop()\n",
    "\n",
    "postfix_expression = \"34*5+\"\n",
    "result = evaluate_postfix(postfix_expression)\n",
    "print(f\"Result of the postfix expression '{postfix_expression}': {result}\")"
   ]
  }
 ],
 "metadata": {
  "kernelspec": {
   "display_name": "pythonanalyzer-r8O-sSsi-py3.12",
   "language": "python",
   "name": "python3"
  },
  "language_info": {
   "codemirror_mode": {
    "name": "ipython",
    "version": 3
   },
   "file_extension": ".py",
   "mimetype": "text/x-python",
   "name": "python",
   "nbconvert_exporter": "python",
   "pygments_lexer": "ipython3",
   "version": "3.12.2"
  }
 },
 "nbformat": 4,
 "nbformat_minor": 2
}
