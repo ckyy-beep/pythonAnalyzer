{
 "cells": [
  {
   "cell_type": "code",
   "execution_count": null,
   "metadata": {},
   "outputs": [],
   "source": [
    "import pandas as pd\n",
    "import pyodbc\n",
    "import sqlite3\n",
    "\n",
    "# Connect to SQLite database\n",
    "conn = sqlite3.connect('..\\\\..\\\\sqllite\\\\go_sales.sqlite')\n",
    "conn2 = sqlite3.connect('..\\\\..\\\\sqllite\\\\go_crm.sqlite')\n",
    "\n",
    "# Connect to SQL Server\n",
    "DB = {'servername': 'LAPTOP-HSI9FLRD\\\\SQLEXPRESS',\n",
    "      'database': 'DataWarehouseGreatOutdoors'}\n",
    "\n",
    "export_conn = pyodbc.connect('DRIVER={SQL Server};SERVER=' + DB['servername'] +\n",
    "                             ';DATABASE=' + DB['database'] + ';Trusted_Connection=yes')\n",
    "\n",
    "export_cursor = export_conn.cursor()\n",
    "\n",
    "# properties\n",
    "pd.set_option('display.max_columns', None)"
   ]
  },
  {
   "cell_type": "code",
   "execution_count": null,
   "metadata": {},
   "outputs": [],
   "source": [
    "# Read data from SQLite database\n",
    "order_header = pd.read_sql_query(\"SELECT * FROM order_header\", conn)\n",
    "order_details = pd.read_sql_query(\"SELECT * FROM order_details\", conn)\n",
    "order_method = pd.read_sql_query(\"SELECT * FROM order_method\", conn)\n",
    "\n",
    "\n",
    "# Merge data into one table\n",
    "combined_order_table = pd.merge(order_header, order_details, on='ORDER_NUMBER')\n",
    "combined_order_table = pd.merge(combined_order_table, order_method, on='ORDER_METHOD_CODE' ,how='left')\n",
    "combined_order_table\n",
    "\n",
    "# Iterate through rows and insert into SQL Server\n",
    "# for index, row in combined_order_table.iterrows():\n",
    "#     try:\n",
    "#         # Adjust your INSERT query according to the actual column names in your SQL Server table\n",
    "#         query = \"INSERT INTO ORDER_DETAILS ([order_detail_code], [order_number], [order_method_code], [order_method_en], [quantity], [order_detail_unit_cost], [order_detail_unit_price], [order_detail_unit_sale], [order_detail_order_date], [order_detail_product_number], [retailer_site_code], [sales_staff_code]) VALUES (?, ?, ?, ?, ?, ?, ?, ?, ?, ?, ?, ?)\"\n",
    "#         export_cursor.execute(query, row['ORDER_DETAIL_CODE'], row['ORDER_NUMBER'], row['ORDER_METHOD_CODE'], row['ORDER_METHOD_EN'], row['QUANTITY'], row['UNIT_COST'], row['UNIT_PRICE'], row['UNIT_SALE_PRICE'], row['ORDER_DATE'], row['PRODUCT_NUMBER'], row['RETAILER_SITE_CODE'], row['SALES_STAFF_CODE'])\n",
    "#     except pyodbc.Error as e:\n",
    "#         print(f\"Error inserting row {index}: {e}\")\n",
    "\n",
    "# export_conn.commit()\n"
   ]
  }
 ],
 "metadata": {
  "kernelspec": {
   "display_name": "pythonanalyzer-r8O-sSsi-py3.12",
   "language": "python",
   "name": "python3"
  },
  "language_info": {
   "codemirror_mode": {
    "name": "ipython",
    "version": 3
   },
   "file_extension": ".py",
   "mimetype": "text/x-python",
   "name": "python",
   "nbconvert_exporter": "python",
   "pygments_lexer": "ipython3",
   "version": "3.12.2"
  }
 },
 "nbformat": 4,
 "nbformat_minor": 2
}
