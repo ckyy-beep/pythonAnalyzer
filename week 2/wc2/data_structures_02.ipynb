{
 "cells": [
  {
   "cell_type": "markdown",
   "metadata": {},
   "source": [
    "<h1> Datasctructures and Algorithms </h1>"
   ]
  },
  {
   "cell_type": "markdown",
   "metadata": {},
   "source": [
    "<h2> 1. Graph </h2>"
   ]
  },
  {
   "cell_type": "markdown",
   "metadata": {},
   "source": [
    "- Algoritme: Breadth-First Search (BFS)\n",
    "- Gebruik: Het doorzoeken van een graaf om het kortste pad of de kortste afstand tussen twee knooppunten te vinden.\n",
    "- Complexiteit: O(V + E) voor een ongewogen graaf, waar V het aantal vertices is en E het aantal edges. Dit komt omdat elk knooppunt en elke rand in het slechtste geval één keer wordt bezocht."
   ]
  },
  {
   "cell_type": "code",
   "execution_count": null,
   "metadata": {},
   "outputs": [],
   "source": [
    "from collections import deque\n",
    "\n",
    "def bfs(graph, start, target):\n",
    "    visited = set()\n",
    "    queue = deque([start])\n",
    "    \n",
    "    while queue:\n",
    "        vertex = queue.popleft()\n",
    "        if vertex == target:\n",
    "            return True\n",
    "        visited.add(vertex)\n",
    "        for neighbor in graph[vertex]:\n",
    "            if neighbor not in visited:\n",
    "                queue.append(neighbor)\n",
    "    return False\n",
    "\n",
    "graph = {\n",
    "    'A': ['B', 'C'],\n",
    "    'B': ['D', 'E'],\n",
    "    'C': ['F'],\n",
    "    'D': [],\n",
    "    'E': ['F'],\n",
    "    'F': []\n",
    "}\n",
    "start = 'A'\n",
    "target = 'F'\n",
    "print(f\"Path bestaat: {bfs(graph, start, target)}\")"
   ]
  },
  {
   "cell_type": "markdown",
   "metadata": {},
   "source": [
    "<h2> 2. Queue (wachtrij) </h2>"
   ]
  },
  {
   "cell_type": "markdown",
   "metadata": {},
   "source": [
    "**Werking:**\n",
    "\n",
    "- Een FIFO-datastructuur (First-In-First-Out).\n",
    "- Nieuwe elementen worden **achteraan toegevoegd** en **verwijderd aan de voorkant**.\n",
    "\n",
    "**Toepassing:**\n",
    "\n",
    "- Taakwachtrijen in besturingssystemen\n",
    "- Simulaties van wachtrijen\n",
    "- Bufferimplementaties\n",
    "\n",
    "**Algoritme:**\n",
    "\n",
    "- Breadth-First Search (BFS)\n",
    "\n",
    "**Complexiteit:**\n",
    "\n",
    "- Enqueue: O(1) - constant, toevoegen achteraan is efficiënt.\n",
    "- Dequeue: O(1) - constant, verwijderen vooraan is efficiënt.\n",
    "- Zoeken: O(n) - lineair, zoeken in een wachtrij is traag."
   ]
  },
  {
   "cell_type": "code",
   "execution_count": null,
   "metadata": {},
   "outputs": [],
   "source": [
    "from queue import Queue\n",
    "\n",
    "def bfs(graph, start):\n",
    "    visited = set()\n",
    "    queue = Queue()\n",
    "\n",
    "    queue.put(start)\n",
    "    visited.add(start)\n",
    "\n",
    "    while not queue.empty():\n",
    "        current_node = queue.get()\n",
    "        print(f\"Bezoek node: {current_node}\")\n",
    "\n",
    "        for neighbor in graph[current_node]:\n",
    "            if neighbor not in visited:\n",
    "                queue.put(neighbor)\n",
    "                visited.add(neighbor)\n",
    "\n",
    "# Voorbeeld van een ongerichte graaf als dictionary\n",
    "# {node: [buur1, buur2, ...]}\n",
    "graph = {\n",
    "    1: [2, 3],\n",
    "    2: [1, 4, 5],\n",
    "    3: [1, 6],\n",
    "    4: [2],\n",
    "    5: [2, 7],\n",
    "    6: [3],\n",
    "    7: [5]\n",
    "}\n",
    "\n",
    "start_node = 1\n",
    "bfs(graph, start_node)"
   ]
  },
  {
   "cell_type": "markdown",
   "metadata": {},
   "source": [
    "<h2> 3. Priority Queue (prioriteitswachtrij) </h2>"
   ]
  },
  {
   "cell_type": "markdown",
   "metadata": {},
   "source": [
    "**Werking:**\n",
    "\n",
    "- Elementen worden geordend op basis van **prioriteit**.\n",
    "- Nieuwe elementen worden toegevoegd met hun prioriteit en **verwijderd op basis van de hoogste prioriteit**.\n",
    "\n",
    "**Toepassing:**\n",
    "\n",
    "- Evenementgestuurde programmering\n",
    "- Taakplanning\n",
    "- Dijkstra's algoritme voor kortste paden\n",
    "\n",
    "**Algoritme:**\n",
    "\n",
    "- Dijkstra's algoritme\n",
    "\n",
    "**Complexiteit:**\n",
    "\n",
    "- Enqueue: O(log n) - logaritmisch, efficiënt toevoegen met behoud van prioriteit.\n",
    "- Dequeue: O(log n) - logaritmisch, efficiënt verwijderen met behoud van prioriteit.\n",
    "- Zoeken: O(log n) - logaritmisch, efficiënt zoeken op basis van prioriteit.\n"
   ]
  },
  {
   "cell_type": "code",
   "execution_count": null,
   "metadata": {},
   "outputs": [],
   "source": []
  },
  {
   "cell_type": "markdown",
   "metadata": {},
   "source": [
    "<h2> 4. Binary Tree </h2>"
   ]
  },
  {
   "cell_type": "markdown",
   "metadata": {},
   "source": [
    "**Werking:**\n",
    "\n",
    "- Een geordende hiërarchische datastructuur met knooppunten die **maximaal twee kinderen** hebben.\n",
    "\n",
    "**Toepassing:**\n",
    "\n",
    "- Opslaan van gesorteerde data\n",
    "- Efficiënte zoekacties\n",
    "- Binaire zoekbomen\n",
    "- Huffman-codering\n",
    "\n",
    "**Algoritme:**\n",
    "\n",
    "- Inorder Traversal (inorder-doorlopen)\n",
    "\n",
    "**Complexiteit:**\n",
    "\n",
    "- Invoegen: O(log n) - logaritmisch, efficiënt toevoegen met behoud van sortering.\n",
    "- Verwijderen: O(log n) - logaritmisch, efficiënt verwijderen met behoud van sortering.\n",
    "- Zoeken: O(log n) - logaritmisch, efficiënt zoeken in gesorteerde data.\n"
   ]
  },
  {
   "cell_type": "code",
   "execution_count": null,
   "metadata": {},
   "outputs": [],
   "source": []
  }
 ],
 "metadata": {
  "kernelspec": {
   "display_name": "pythonanalyzer-r8O-sSsi-py3.12",
   "language": "python",
   "name": "python3"
  },
  "language_info": {
   "codemirror_mode": {
    "name": "ipython",
    "version": 3
   },
   "file_extension": ".py",
   "mimetype": "text/x-python",
   "name": "python",
   "nbconvert_exporter": "python",
   "pygments_lexer": "ipython3",
   "version": "3.12.2"
  }
 },
 "nbformat": 4,
 "nbformat_minor": 2
}
